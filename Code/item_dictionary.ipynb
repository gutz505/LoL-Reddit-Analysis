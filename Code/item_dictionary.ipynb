{
 "cells": [
  {
   "cell_type": "markdown",
   "metadata": {},
   "source": [
    "## League of Legends Item Dictionary\n",
    "Gulliver Wutz\n",
    "\n",
    "Source: https://leagueoflegends.fandom.com/wiki/Item_(League_of_Legends)"
   ]
  },
  {
   "cell_type": "code",
   "execution_count": 1,
   "metadata": {},
   "outputs": [],
   "source": [
    "# Creating Dictionary\n",
    "import json\n",
    "item_dict = {}"
   ]
  },
  {
   "cell_type": "code",
   "execution_count": 2,
   "metadata": {},
   "outputs": [],
   "source": [
    "# Cull\n",
    "item_dict[\"Cull\"] = ['Cull', 'Cul', 'Culll']"
   ]
  },
  {
   "cell_type": "code",
   "execution_count": 3,
   "metadata": {},
   "outputs": [],
   "source": [
    "# Dark Seal\n",
    "item_dict[\"Dark Seal\"] = ['Dark Seal', 'Dark-Seal', 'Dark-Seel', 'Dark Seel']"
   ]
  },
  {
   "cell_type": "code",
   "execution_count": 4,
   "metadata": {},
   "outputs": [],
   "source": [
    "# Doran's Blade\n",
    "item_dict[\"Dorans Blade\"] = [\"Doran's Blade\", 'Dorans Blade', 'Dorans Blad', \"Doran's Blad\", 'D Blade', 'D-Blade', 'DBlade']"
   ]
  },
  {
   "cell_type": "code",
   "execution_count": 5,
   "metadata": {},
   "outputs": [],
   "source": [
    "# Doran's Ring\n",
    "item_dict[\"Dorans Ring\"] = [\"Doran's Ring\", 'Dorans Ring', 'D Ring', 'D-Ring', 'DRing']"
   ]
  },
  {
   "cell_type": "code",
   "execution_count": 6,
   "metadata": {},
   "outputs": [],
   "source": [
    "# Doran's Shield\n",
    "item_dict[\"Dorans Shield\"] = [\"Doran's Shield\", 'Dorans Shield', 'D Shield', 'D-Shield', 'DShield']"
   ]
  },
  {
   "cell_type": "code",
   "execution_count": 7,
   "metadata": {},
   "outputs": [],
   "source": [
    "# Gustwalker Hatchling\n",
    "item_dict[\"Gustwalker Hatchling\"] = ['Gustwalker Hatchling', 'Gustwalker', 'Gastwalker', 'Blue-Smite', 'Blue Smite', 'BlueSmite']"
   ]
  },
  {
   "cell_type": "code",
   "execution_count": 8,
   "metadata": {},
   "outputs": [],
   "source": [
    "# Gustwalker Hatchling\n",
    "item_dict[\"Gustwalker Hatchling\"] = ['Gustwalker-Hatchling', 'Gustwalker', 'Hatchling', 'Gastwalker', 'Blue-Smite', 'Blue Smite', 'BlueSmite']"
   ]
  },
  {
   "cell_type": "code",
   "execution_count": 9,
   "metadata": {},
   "outputs": [],
   "source": [
    "# Mosstomper Seedling\n",
    "item_dict[\"Mosstomper Seedling\"] = ['Mosstomper-Seedling', 'Mosstomper', 'Seedling', 'Mostomper', 'Green-Smite', 'Green Smite', 'GreenSmite']"
   ]
  },
  {
   "cell_type": "code",
   "execution_count": 10,
   "metadata": {},
   "outputs": [],
   "source": [
    "# Scorchclaw Pup\n",
    "item_dict[\"Scorchclaw Pup\"] = ['Scorchclaw-Pup', 'Scorchclaw', 'Pup', 'Skorchclaw', 'Red-Smite', 'Red Smite', 'RedSmite']"
   ]
  },
  {
   "cell_type": "code",
   "execution_count": 11,
   "metadata": {},
   "outputs": [],
   "source": [
    "# Tear of the Goddess\n",
    "item_dict[\"Tear of the Goddess\"] = ['Tear of the Goddess', 'Tear of Goddess', 'Tear', 'Mana-Tear', 'Mana Tear', 'Goddess Tear', 'Tear of the Godess', 'Tear of the Goddes']"
   ]
  },
  {
   "cell_type": "code",
   "execution_count": 12,
   "metadata": {},
   "outputs": [],
   "source": [
    "# World Atlas\n",
    "item_dict[\"World Atlas\"] = ['World Atlas', 'World-Atlas', 'World Attlas', 'World-Attlas']"
   ]
  },
  {
   "cell_type": "code",
   "execution_count": 13,
   "metadata": {},
   "outputs": [],
   "source": [
    "# Control Ward\n",
    "item_dict[\"Control Ward\"] = ['Control Ward', 'Control-Ward']"
   ]
  },
  {
   "cell_type": "code",
   "execution_count": 14,
   "metadata": {},
   "outputs": [],
   "source": [
    "# Elixir of Iron\n",
    "item_dict[\"Elixir of Iron\"] = ['Elixir of Iron', 'Elexir of Iron', 'Iron Elixir', 'Iron-Elixir', 'Yellow Elixir']"
   ]
  },
  {
   "cell_type": "code",
   "execution_count": 15,
   "metadata": {},
   "outputs": [],
   "source": [
    "# Elixir of Sorcery\n",
    "item_dict[\"Elixir of Sorcery\"] = ['Elixir of Sorcery', 'Elexir of Sorcery', 'Sorcery Elixir', 'Sorcery-Elixir', 'Blue Elixir', 'Purple Elixir']"
   ]
  },
  {
   "cell_type": "code",
   "execution_count": 16,
   "metadata": {},
   "outputs": [],
   "source": [
    "# Elixir of Wrath\n",
    "item_dict[\"Elixir of Wrath\"] = ['Elixir of Wrath', 'Elexir of Wrath', 'Wrath Elixir', 'Wrath-Elixir', 'Elixir of Warth', 'Warth Elixir', 'Warth-Elixir', 'Red Elixir']"
   ]
  },
  {
   "cell_type": "code",
   "execution_count": 17,
   "metadata": {},
   "outputs": [],
   "source": [
    "# Health Potion\n",
    "item_dict[\"Health Potion\"] = ['Health Potion', 'Health-Potion', 'Heeling Potion', 'Red Potion', 'Red-Potion', 'Health Potions', 'Health-Potions', 'Heeling Potions', 'Red Potions']"
   ]
  },
  {
   "cell_type": "code",
   "execution_count": 18,
   "metadata": {},
   "outputs": [],
   "source": [
    "# Refillable Potion\n",
    "item_dict[\"Refillable Potion\"] = ['Refillable Potion', 'Refillable-Potion', 'Refillable', 'Refillables', 'Refillable Potions', 'Refillable-Potions']"
   ]
  },
  {
   "cell_type": "code",
   "execution_count": 19,
   "metadata": {},
   "outputs": [],
   "source": [
    "# Farsight Alteration\n",
    "item_dict[\"Farsight Alteration\"] = ['Farsight', 'Alteration', 'Farsight-Alteration', 'Blue Trinket', 'Blue-Trinket', 'BlueTrinket', 'Blue Ward', 'Blue-Ward', 'BlueWard', 'Blue Wards']"
   ]
  },
  {
   "cell_type": "code",
   "execution_count": 20,
   "metadata": {},
   "outputs": [],
   "source": [
    "# Oracle Lens\n",
    "item_dict[\"Oracle Lens\"] = ['Oracle Lens', 'Oracle Lense', 'Oracle-Lense', 'Oracle-Lens', 'Oracle', 'Sweeper', 'Sweeper-Drone', 'SweeperDrone', 'Sweaper', 'Sweeper Drone']"
   ]
  },
  {
   "cell_type": "code",
   "execution_count": 21,
   "metadata": {},
   "outputs": [],
   "source": [
    "# Stealth Ward\n",
    "item_dict[\"Stealth Ward\"] = ['Stealth Ward', 'Stealth-Ward', 'Totem Ward', 'Yellow Ward', 'Yellow Wards', 'Yellow-Ward', 'Yellow-Wards', 'Stealth Wards', 'Stealth-Wards']"
   ]
  },
  {
   "cell_type": "code",
   "execution_count": 22,
   "metadata": {},
   "outputs": [],
   "source": [
    "# Slightly Magical Boots\n",
    "item_dict[\"Slightly Magical Boots\"] = ['Slightly Magical Boots', 'Slightly-Magical Boots', 'Slightly-Magical-Boots', 'Magical Boots', 'Magical-Boots', 'Magic Boots']"
   ]
  },
  {
   "cell_type": "code",
   "execution_count": 23,
   "metadata": {},
   "outputs": [],
   "source": [
    "# Biscuit\n",
    "item_dict[\"Biscuit\"] = ['Biscuit', 'Biscuits', 'Total Biscuit', 'Total Biscuit of Everlasting Will', 'Biscuitts', 'Total-Biscuit', 'Total-Biscuits']"
   ]
  },
  {
   "cell_type": "code",
   "execution_count": 24,
   "metadata": {},
   "outputs": [],
   "source": [
    "# Elixir of Avarice\n",
    "item_dict[\"Elixir of Avarice\"] = ['Avarice', 'Avarice-Elixir']"
   ]
  },
  {
   "cell_type": "code",
   "execution_count": 25,
   "metadata": {},
   "outputs": [],
   "source": [
    "# Elixir of Force\n",
    "item_dict[\"Elixir of Force\"] = ['Elixir of Force', 'Force-Elixir', 'Elixir-of-Force']"
   ]
  },
  {
   "cell_type": "code",
   "execution_count": 26,
   "metadata": {},
   "outputs": [],
   "source": [
    "# Elixir of Skill\n",
    "item_dict[\"Elixir of Skill\"] = ['Elixir of Skill', 'Skill-Elixir', 'Elixir-of-Skill']"
   ]
  },
  {
   "cell_type": "code",
   "execution_count": 27,
   "metadata": {},
   "outputs": [],
   "source": [
    "# Berserker's Greaves\n",
    "item_dict[\"Berserkers Greaves\"] = [\"Berserker's\", 'Greaves', 'Berserkers', 'Berserkers-Greaves', 'Berserks', \"Berserk's\", 'Attack Speed Boots', 'Beserks', \"Beserk's\"]"
   ]
  },
  {
   "cell_type": "code",
   "execution_count": 28,
   "metadata": {},
   "outputs": [],
   "source": [
    "# Boots\n",
    "item_dict[\"Boots\"] = ['Boots', 'Standard-Boots', 'Basic-Boots', 'Starter-Boots' ,'Tier-One-Boots', 'Tier-1-Boots']"
   ]
  },
  {
   "cell_type": "code",
   "execution_count": 29,
   "metadata": {},
   "outputs": [],
   "source": [
    "# Boots of Swiftness\n",
    "item_dict[\"Boots of Swiftness\"] = ['Boots of Swiftness', 'Swiftness-Boots', 'Boots of Swiftnes', 'Swiftnes-Boots' ,'Swifties', 'Swiftys', 'Swiftness Boots']"
   ]
  },
  {
   "cell_type": "code",
   "execution_count": 30,
   "metadata": {},
   "outputs": [],
   "source": [
    "# Ionian Boots of Lucidity\n",
    "item_dict[\"Boots of Lucidity\"] = ['Ionian Boots', 'Boots of Lucidity', 'Lucidity-Boots' ,'Lucids', \"Lucid's\", 'Ionians', \"Ionian's\"]"
   ]
  },
  {
   "cell_type": "code",
   "execution_count": 31,
   "metadata": {},
   "outputs": [],
   "source": [
    "# Mercury's Treads\n",
    "item_dict[\"Mercurys Treads\"] = [\"Mercury's\", 'Mercury', 'Mercs', 'Merks', 'Merc', 'Treads', 'MR Boots', 'MR-Boots', 'Merc-Treads', 'Tenacity Boots', 'Tenacity-Boots']"
   ]
  },
  {
   "cell_type": "code",
   "execution_count": 32,
   "metadata": {},
   "outputs": [],
   "source": [
    "# Plated Steelcaps\n",
    "item_dict[\"Plated Steelcaps\"] = ['Plated', 'Steelcaps', 'Plated-Steelcaps', 'Tabbies', 'Tabbys', 'Ninja-Tabbies', 'Ninja-Tabi', 'Tabi', 'Tabies']"
   ]
  },
  {
   "cell_type": "code",
   "execution_count": 33,
   "metadata": {},
   "outputs": [],
   "source": [
    "# Sorcerer's Shoes\n",
    "item_dict[\"Sorcerers Shoes\"] = [\"Sorcerer's Shoes\", 'Sorcerers Shoes', 'Sorc Shoes' ,'Sorc-Shoes', 'Sorcs', 'MP Boots', 'Magicpen Boots', 'MPen Boots', 'M-Pen Boots']"
   ]
  },
  {
   "cell_type": "code",
   "execution_count": 34,
   "metadata": {},
   "outputs": [],
   "source": [
    "# Symbiotic Soles\n",
    "item_dict[\"Symbiotic Soles\"] = ['Symbiotic Soles', 'Symbiotic-Soles', 'Symbiotic Boots' ,'Symbiotic-Boots']"
   ]
  },
  {
   "cell_type": "code",
   "execution_count": 35,
   "metadata": {},
   "outputs": [],
   "source": [
    "# Zephyr\n",
    "item_dict[\"Zephyr\"] = ['Zephyr', 'Zephyr-Boots']"
   ]
  },
  {
   "cell_type": "code",
   "execution_count": 36,
   "metadata": {},
   "outputs": [],
   "source": [
    "# Amplifying Tome\n",
    "item_dict[\"Amplifying Tome\"] = ['Amplifying Tome', 'Amplifying-Tome', 'Amp Tome', 'Amp-Tome', 'Tome', 'Tomes', 'Amp-Tomes', 'Amp Tomes']"
   ]
  },
  {
   "cell_type": "code",
   "execution_count": 37,
   "metadata": {},
   "outputs": [],
   "source": [
    "# B. F. Sword\n",
    "item_dict[\"BF Sword\"] = ['B. F. Sword', 'BF Sword', 'BF-Sword', 'Big Fucking Sword', 'BFS']"
   ]
  },
  {
   "cell_type": "code",
   "execution_count": 38,
   "metadata": {},
   "outputs": [],
   "source": [
    "# Blasting Wand\n",
    "item_dict[\"Blasting Wand\"] = ['Blasting Wand', 'Blasting-Wand', 'BWand', 'Blast-Wand', 'Blast Wand', 'B-Wand']"
   ]
  },
  {
   "cell_type": "code",
   "execution_count": 39,
   "metadata": {},
   "outputs": [],
   "source": [
    "# Cloak of Agility\n",
    "item_dict[\"Cloak of Agility\"] = ['Cloak of Agility', 'Agility Cloak', 'Agility-Cloak', 'Cloak', 'Crit-Cloak', 'Cloaks']"
   ]
  },
  {
   "cell_type": "code",
   "execution_count": 40,
   "metadata": {},
   "outputs": [],
   "source": [
    "# Cloth Armor\n",
    "item_dict[\"Cloth Armor\"] = ['Cloth Armor', 'Cloth-Armor', 'Amor Cloth', 'Amor-Cloth', 'Amored Cloth', 'Cloth']"
   ]
  },
  {
   "cell_type": "code",
   "execution_count": 41,
   "metadata": {},
   "outputs": [],
   "source": [
    "# Dagger\n",
    "item_dict[\"Dagger\"] = ['Dagger', 'Dager', 'Attack-Speed-Dagger', 'AS-Dagger']"
   ]
  },
  {
   "cell_type": "code",
   "execution_count": 42,
   "metadata": {},
   "outputs": [],
   "source": [
    "# Faerie Charm\n",
    "item_dict[\"Faerie Charm\"] = ['Faerie Charm', 'Faerie-Charm', 'Faery Charm', 'Faeries Charm', 'Ferry Charm', 'Fearicharm']"
   ]
  },
  {
   "cell_type": "code",
   "execution_count": 43,
   "metadata": {},
   "outputs": [],
   "source": [
    "# Glowing Mote\n",
    "item_dict[\"Glowing Mote\"] = ['Glowing Mote', 'Glowing-Mote', 'Mote', 'Motte', 'Haste Mote', 'Haste-Mote', 'Motes']"
   ]
  },
  {
   "cell_type": "code",
   "execution_count": 44,
   "metadata": {},
   "outputs": [],
   "source": [
    "# Long Sword\n",
    "item_dict[\"Long Sword\"] = ['Long Sword', 'Long-Sword', 'Longsword']"
   ]
  },
  {
   "cell_type": "code",
   "execution_count": 45,
   "metadata": {},
   "outputs": [],
   "source": [
    "# Needlessly Large Rod\n",
    "item_dict[\"Needlessly Large Rod\"] = ['Needlessly-Large Rod', 'Large Rod', 'Needlessly-Large-Rod', 'NLR', 'Large Rods']"
   ]
  },
  {
   "cell_type": "code",
   "execution_count": 46,
   "metadata": {},
   "outputs": [],
   "source": [
    "# Null-Magic Mantle\n",
    "item_dict[\"Null Magic Mantle\"] = ['Null-Magic Mantle', 'Null Magic Mantle', 'Nullmagic Mantle', 'Nullmagic-Mantle', 'Mantle', 'MR-Mantle', 'Mantles']"
   ]
  },
  {
   "cell_type": "code",
   "execution_count": 47,
   "metadata": {},
   "outputs": [],
   "source": [
    "# Pickaxe\n",
    "item_dict[\"Pickaxe\"] = ['Pickaxe', 'Pickaxes', 'Pick-Axe', 'Pick-Axes']"
   ]
  },
  {
   "cell_type": "code",
   "execution_count": 48,
   "metadata": {},
   "outputs": [],
   "source": [
    "# Rejuvenation Bead\n",
    "item_dict[\"Rejuvenation Bead\"] = ['Rejuvenation Bead', 'Rejuvenation-Bead', 'RBead', 'R-Bead', 'Bead of Rejuvenation', 'Rejuvenation Beads', 'R-Beads']"
   ]
  },
  {
   "cell_type": "code",
   "execution_count": 49,
   "metadata": {},
   "outputs": [],
   "source": [
    "# Ruby Crystal\n",
    "item_dict[\"Ruby Crystal\"] = ['Ruby Crystal', 'Ruby-Crystal', 'Ruby', 'Rubies', 'HP-Crystal']"
   ]
  },
  {
   "cell_type": "code",
   "execution_count": 50,
   "metadata": {},
   "outputs": [],
   "source": [
    "# Sapphire Crystal\n",
    "item_dict[\"Sapphire Crystal\"] = ['Sapphire Crystal', 'Sapphire-Crystal', 'Sapphire', 'Sapphires', 'Saphire Crystal', 'Sapphire-Crystals', 'Mana Crystal', 'Mana Crystals']"
   ]
  },
  {
   "cell_type": "code",
   "execution_count": 51,
   "metadata": {},
   "outputs": [],
   "source": [
    "# Aether Wisp\n",
    "item_dict[\"Aether Wisp\"] = ['Aether Wisp', 'Aether-Wisp']"
   ]
  },
  {
   "cell_type": "code",
   "execution_count": 52,
   "metadata": {},
   "outputs": [],
   "source": [
    "# Aether Wisp\n",
    "item_dict[\"Aether Wisp\"] = ['Aether', 'Aether-Wisp', 'Wisp', 'Wisps']"
   ]
  },
  {
   "cell_type": "code",
   "execution_count": 53,
   "metadata": {},
   "outputs": [],
   "source": [
    "# Bami's Cinder\n",
    "item_dict[\"Bamis Cinder\"] = ['Bamis-Cinder', 'Bamis', \"Bami's\", \"Bami's-Cinder\", 'Cinder']"
   ]
  },
  {
   "cell_type": "code",
   "execution_count": 54,
   "metadata": {},
   "outputs": [],
   "source": [
    "# Bandleglass Mirror\n",
    "item_dict[\"Bandleglass Mirror\"] = ['Bandleglass', 'Bandleglass-Mirror', 'Bandle Mirror', 'Bandle-Mirror']"
   ]
  },
  {
   "cell_type": "code",
   "execution_count": 55,
   "metadata": {},
   "outputs": [],
   "source": [
    "# Blighting Jewel\n",
    "item_dict[\"Blighting Jewel\"] = ['Blighting Jewel', 'Blighting-Jewel', 'Blight Jewel', 'Blight-Jewel']"
   ]
  },
  {
   "cell_type": "code",
   "execution_count": 56,
   "metadata": {},
   "outputs": [],
   "source": [
    "# Bramble Vest\n",
    "item_dict[\"Bramble Vest\"] = ['Bramble-Vest', 'Bramble']"
   ]
  },
  {
   "cell_type": "code",
   "execution_count": 57,
   "metadata": {},
   "outputs": [],
   "source": [
    "# Catalyst of Aeons\n",
    "item_dict[\"Catalyst of Aeons\"] = ['Catalyst', 'Aeons-Catalyst', 'Aeon-Catalyst', 'Catalysts']"
   ]
  },
  {
   "cell_type": "code",
   "execution_count": 58,
   "metadata": {},
   "outputs": [],
   "source": [
    "# Caulfield's Warhammer\n",
    "item_dict[\"Caulfields Warhammer\"] = [\"Caulfield's\", 'Warhammer', 'Caulfields', 'Caulefields', \"Caulefield's\", 'Warhammers']"
   ]
  },
  {
   "cell_type": "code",
   "execution_count": 59,
   "metadata": {},
   "outputs": [],
   "source": [
    "# Catalyst of Aeons\n",
    "item_dict[\"Catalyst of Aeons\"] = ['Catalyst', 'Aeons-Catalyst', 'Aeon-Catalyst', 'Catalysts']"
   ]
  },
  {
   "cell_type": "code",
   "execution_count": 60,
   "metadata": {},
   "outputs": [],
   "source": [
    "# Chain Vest\n",
    "item_dict[\"Chain Vest\"] = ['Chain Vest', 'Chain-Vest', 'Armor Vest', 'Armor-Vest']"
   ]
  },
  {
   "cell_type": "code",
   "execution_count": 61,
   "metadata": {},
   "outputs": [],
   "source": [
    "# Crystalline Bracer\n",
    "item_dict[\"Crystalline Bracer\"] = ['Crystalline', 'Crystalline-Bracer', 'Crystalline-Bracers', 'Bracer', 'Bracers', 'Crystal-Bracers']"
   ]
  },
  {
   "cell_type": "code",
   "execution_count": 62,
   "metadata": {},
   "outputs": [],
   "source": [
    "# Executioner's Calling\n",
    "item_dict[\"Executioners Calling\"] = [\"Executioner's\", 'Executioners', 'Calling', 'Executioners-Calling', \"Executioner's-Calling\"]"
   ]
  },
  {
   "cell_type": "code",
   "execution_count": 63,
   "metadata": {},
   "outputs": [],
   "source": [
    "# Fated Ashes\n",
    "item_dict[\"Fated Ashes\"] = ['Fated-Ashes', 'Fated Ashes', 'Fated Ashe']"
   ]
  },
  {
   "cell_type": "code",
   "execution_count": 64,
   "metadata": {},
   "outputs": [],
   "source": [
    "# Fiendish Codex\n",
    "item_dict[\"Fiendish Codex\"] = ['Fiendish', 'Fiendish-Codex', 'Codex', 'Codexes', 'Codices']"
   ]
  },
  {
   "cell_type": "code",
   "execution_count": 65,
   "metadata": {},
   "outputs": [],
   "source": [
    "# Forbidden Idol\n",
    "item_dict[\"Forbidden Idol\"] = ['Forbidden Idol', 'Forbidden-Idol', 'Forbiden Idol', 'Forbiden-Idol']"
   ]
  },
  {
   "cell_type": "code",
   "execution_count": 66,
   "metadata": {},
   "outputs": [],
   "source": [
    "# Giant's Belt\n",
    "item_dict[\"Giants Belt\"] = [\"Giant's Belt\", \"Giant's-Belt\", 'Giants-Belt', 'Giants Belt', 'Giant Belt', 'Giant-Belt']"
   ]
  },
  {
   "cell_type": "code",
   "execution_count": 67,
   "metadata": {},
   "outputs": [],
   "source": [
    "# Glacial Buckler\n",
    "item_dict[\"Glacial Buckler\"] = [\"Glacial Buckler\", \"Glacial-Buckler\", 'Glacier Buckler', 'Glacier-Buckler']"
   ]
  },
  {
   "cell_type": "code",
   "execution_count": 68,
   "metadata": {},
   "outputs": [],
   "source": [
    "# Haunting Guise\n",
    "item_dict[\"Haunting Guise\"] = [\"Haunting Guise\", \"Haunting-Guise\"]"
   ]
  },
  {
   "cell_type": "code",
   "execution_count": 69,
   "metadata": {},
   "outputs": [],
   "source": [
    "# Hearthbound Axe\n",
    "item_dict[\"Hearthbound Axe\"] = [\"Hearthbound Axe\", \"Hearthbound-Axe\", \"Heartbound Axe\", \"Heartbound-Axe\"]"
   ]
  },
  {
   "cell_type": "code",
   "execution_count": 70,
   "metadata": {},
   "outputs": [],
   "source": [
    "# Hexdrinker\n",
    "item_dict[\"Hexdrinker\"] = [\"Hexdrinker\", \"Hex Drinker\", \"Hex-Drinker\"]"
   ]
  },
  {
   "cell_type": "code",
   "execution_count": 71,
   "metadata": {},
   "outputs": [],
   "source": [
    "# Hextech Alternator\n",
    "item_dict[\"Hextech Alternator\"] = [\"Hextech-Alternator\", \"Alternator\", 'Alternators', 'Hex-Tech-Alternator']"
   ]
  },
  {
   "cell_type": "code",
   "execution_count": 72,
   "metadata": {},
   "outputs": [],
   "source": [
    "# Kindlegem\n",
    "item_dict[\"Kindlegem\"] = [\"Kindlegem\", \"Kindle Gem\", 'Kindle-Gem', 'Kindelinggem', 'Kindeling-Gem', 'Kindling Gem']"
   ]
  },
  {
   "cell_type": "code",
   "execution_count": 73,
   "metadata": {},
   "outputs": [],
   "source": [
    "# Last Whisper\n",
    "item_dict[\"Last Whisper\"] = [\"Last Whisper\", \"Last-Whisper\"]"
   ]
  },
  {
   "cell_type": "code",
   "execution_count": 74,
   "metadata": {},
   "outputs": [],
   "source": [
    "# Lost Chapter\n",
    "item_dict[\"Lost Chapter\"] = [\"Lost Chapter\", \"Lost-Chapter\", \"Lostchapter\"]"
   ]
  },
  {
   "cell_type": "code",
   "execution_count": 75,
   "metadata": {},
   "outputs": [],
   "source": [
    "# Negatron Cloak\n",
    "item_dict[\"Negatron Cloak\"] = [\"Negatron\", \"Negatron-Cloak\", \"MR-Cloal\", \"MR Cloak\"]"
   ]
  },
  {
   "cell_type": "code",
   "execution_count": 76,
   "metadata": {},
   "outputs": [],
   "source": [
    "# Noonquiver\n",
    "item_dict[\"Noonquiver\"] = [\"Noonquiver\", \"Noon Quiver\", \"Noon-Quiver\"]"
   ]
  },
  {
   "cell_type": "code",
   "execution_count": 77,
   "metadata": {},
   "outputs": [],
   "source": [
    "# Oblivion Orb\n",
    "item_dict[\"Oblivion Orb\"] = [\"Oblivion Orb\", \"Oblivion-Orb\", \"Obliv-Orb\", \"Obliv Orb\", \"Ob-Orb\", \"Oblivionorb\"]"
   ]
  },
  {
   "cell_type": "code",
   "execution_count": 78,
   "metadata": {},
   "outputs": [],
   "source": [
    "# Phage\n",
    "item_dict[\"Phage\"] = [\"Phage\", \"Phag\", \"Phague\"]"
   ]
  },
  {
   "cell_type": "code",
   "execution_count": 79,
   "metadata": {},
   "outputs": [],
   "source": [
    "# Quicksilver Sash\n",
    "item_dict[\"Quicksilver Sash\"] = [\"Quicksilver\", \"Sash\", \"Quicksilver-Sash\", \"QSS\", \"Q.S.S\", \"QSS\"]"
   ]
  },
  {
   "cell_type": "code",
   "execution_count": 80,
   "metadata": {},
   "outputs": [],
   "source": [
    "# Rectrix\n",
    "item_dict[\"Rectrix\"] = [\"Rectrix\", \"Recktrix\", \"Rectricks\"]"
   ]
  },
  {
   "cell_type": "code",
   "execution_count": 81,
   "metadata": {},
   "outputs": [],
   "source": [
    "# Recurve Bow\n",
    "item_dict[\"Recurve Bow\"] = [\"Recurve Bow\", \"Recurve-Bow\", \"Recurvebow\"]"
   ]
  },
  {
   "cell_type": "code",
   "execution_count": 82,
   "metadata": {},
   "outputs": [],
   "source": [
    "# Runic Compass\n",
    "item_dict[\"Runic Compass\"] = [\"Runic Compass\", \"Runic-Compass\", \"Runiccompass\", \"Runicompass\", \"Runic Compas\"]"
   ]
  },
  {
   "cell_type": "code",
   "execution_count": 83,
   "metadata": {},
   "outputs": [],
   "source": [
    "# Scout's Slingshot\n",
    "item_dict[\"Scouts Slingshot\"] = [\"Scout's\", \"Scouts\", \"Scout's-Slingshot\", \"Scouts-Slingshot\", \"Slingshot\", \"Slingshots\"]"
   ]
  },
  {
   "cell_type": "code",
   "execution_count": 84,
   "metadata": {},
   "outputs": [],
   "source": [
    "# Seeker's Armguard\n",
    "item_dict[\"Seekers Armguard\"] = [\"Seeker's\", \"Armguard\", \"Seekers\", \"Seekers-Armguard\", \"Seeker's-Armguard\", \"Shattered-Armguard\"]"
   ]
  },
  {
   "cell_type": "code",
   "execution_count": 85,
   "metadata": {},
   "outputs": [],
   "source": [
    "# Serrated Dirk\n",
    "item_dict[\"Serrated Dirk\"] = [\"Dirks\", \"Serrated-Dirk\", \"Dirk\"]"
   ]
  },
  {
   "cell_type": "code",
   "execution_count": 86,
   "metadata": {},
   "outputs": [],
   "source": [
    "# Sheen\n",
    "item_dict[\"Sheen\"] = [\"Sheen\", \"Sheens\"]"
   ]
  },
  {
   "cell_type": "code",
   "execution_count": 87,
   "metadata": {},
   "outputs": [],
   "source": [
    "# Spectre's Cowl\n",
    "item_dict[\"Spectress Cowl\"] = [\"Spectre's Cowl\", \"Spectres Cowl\", \"Spectre's-Cowl\", \"SpectresCowl\", \"Spectrescowl\"]"
   ]
  },
  {
   "cell_type": "code",
   "execution_count": 88,
   "metadata": {},
   "outputs": [],
   "source": [
    "# Steel Sigil\n",
    "item_dict[\"Steel Sigil\"] = [\"Steel-Sigil\", \"Sigil\", \"Sigils\"]"
   ]
  },
  {
   "cell_type": "code",
   "execution_count": 89,
   "metadata": {},
   "outputs": [],
   "source": [
    "# The Brutalizer\n",
    "item_dict[\"Brutalizer\"] = [\"Brutalizer\", \"Brutealizer\"]"
   ]
  },
  {
   "cell_type": "code",
   "execution_count": 90,
   "metadata": {},
   "outputs": [],
   "source": [
    "# Tiamat\n",
    "item_dict[\"Tiamat\"] = [\"Tiamat\", \"Tiammat\", \"Tiamate\"]"
   ]
  },
  {
   "cell_type": "code",
   "execution_count": 91,
   "metadata": {},
   "outputs": [],
   "source": [
    "# Tunneler\n",
    "item_dict[\"Tunneler\"] = [\"Tunneler\", \"Tunnelers\", \"Tuneler\", \"Tunneller\"]"
   ]
  },
  {
   "cell_type": "code",
   "execution_count": 92,
   "metadata": {},
   "outputs": [],
   "source": [
    "# Vampiric Scepter\n",
    "item_dict[\"Vampiric Scepter\"] = [\"Vampiric\", \"Vampiric-Scepter\", \"Scepter\", \"Scepters\"]"
   ]
  },
  {
   "cell_type": "code",
   "execution_count": 93,
   "metadata": {},
   "outputs": [],
   "source": [
    "# Verdant Barrier\n",
    "item_dict[\"Verdant Barrier\"] = [\"Verdant Barrier\", \"Verdant-Barrier\"]"
   ]
  },
  {
   "cell_type": "code",
   "execution_count": 94,
   "metadata": {},
   "outputs": [],
   "source": [
    "# Warden's Mail\n",
    "item_dict[\"Wardens Mail\"] = [\"Warden's Mail\", \"Wardens Mail\", \"Warden's-Mail\", \"Wardens-Mail\", \"Warden Mail\", \"Warden-Mail\"]"
   ]
  },
  {
   "cell_type": "code",
   "execution_count": 95,
   "metadata": {},
   "outputs": [],
   "source": [
    "# Watchful Wardstone\n",
    "item_dict[\"Watchful Wardstone\"] = [\"Watchful Wardstone\", \"Watchful-Wardstone\"]"
   ]
  },
  {
   "cell_type": "code",
   "execution_count": 96,
   "metadata": {},
   "outputs": [],
   "source": [
    "# Winged Moonplate\n",
    "item_dict[\"Winged Moonplate\"] = [\"Moonplate\", \"Winged-Moonplate\", \"Moonplates\"]"
   ]
  },
  {
   "cell_type": "code",
   "execution_count": 97,
   "metadata": {},
   "outputs": [],
   "source": [
    "# Zeal\n",
    "item_dict[\"Zeal\"] = [\"Zeal\", \"Zeals\"]"
   ]
  },
  {
   "cell_type": "code",
   "execution_count": 98,
   "metadata": {},
   "outputs": [],
   "source": [
    "# Abyssal Mask\n",
    "item_dict[\"Abyssal Mask\"] = [\"Abyssal\", \"Abyssal-Mask\"]"
   ]
  },
  {
   "cell_type": "code",
   "execution_count": 99,
   "metadata": {},
   "outputs": [],
   "source": [
    "# Archangel's Staff\n",
    "item_dict[\"Archangels Staff\"] = [\"Archangel's\", \"Archangels\", \"Archangels-Staff\", \"Archangel-Staff\", \"Arch-Staff\", \"Arch Staff\", \"Arc-Staff\", \"Arc Staff\"]"
   ]
  },
  {
   "cell_type": "code",
   "execution_count": 100,
   "metadata": {},
   "outputs": [],
   "source": [
    "# Ardent Censer\n",
    "item_dict[\"Ardent Censer\"] = [\"Ardent\", \"Ardent-Censer\", \"Ardend\"]"
   ]
  },
  {
   "cell_type": "code",
   "execution_count": 101,
   "metadata": {},
   "outputs": [],
   "source": [
    "# Axiom Arc\n",
    "item_dict[\"Axiom Arc\"] = [\"Axiom\", \"Axiom-Arc\", \"Axxiom\", \"Axiome\", \"Axxiome\"]"
   ]
  },
  {
   "cell_type": "code",
   "execution_count": 102,
   "metadata": {},
   "outputs": [],
   "source": [
    "# Banshee's Veil\n",
    "item_dict[\"Banshees Veil\"] = [\"Banshees\", \"Banshees-Veil\", \"Banshee's\", \"Banshes\", \"Banshe's\", \"Bannshees\"]"
   ]
  },
  {
   "cell_type": "code",
   "execution_count": 103,
   "metadata": {},
   "outputs": [],
   "source": [
    "# Black Cleaver\n",
    "item_dict[\"Black Cleaver\"] = [\"Cleaver\", \"Black-Cleaver\"]"
   ]
  },
  {
   "cell_type": "code",
   "execution_count": 104,
   "metadata": {},
   "outputs": [],
   "source": [
    "# Blackfire Torch\n",
    "item_dict[\"Blackfire Torch\"] = [\"Blackfire\", \"Blackfire-Torch\", \"Black-Fire-Torch\"]"
   ]
  },
  {
   "cell_type": "code",
   "execution_count": 105,
   "metadata": {},
   "outputs": [],
   "source": [
    "# Blade of the Ruined King\n",
    "item_dict[\"BORK\"] = [\"Blade of the Ruined King\", \"Blade of Ruined King\", \"Ruined King Blade\", \"BORK\", \"B.O.R.K\", \"BORG\", \"Blade of the Ruined\"]"
   ]
  },
  {
   "cell_type": "code",
   "execution_count": 106,
   "metadata": {},
   "outputs": [],
   "source": [
    "# Bloodsong\n",
    "item_dict[\"Bloodsong\"] = [\"Bloodsong\", \"Blood-Song\", \"Blodsong\"]"
   ]
  },
  {
   "cell_type": "code",
   "execution_count": 107,
   "metadata": {},
   "outputs": [],
   "source": [
    "# Bloodthirster\n",
    "item_dict[\"Bloodthirster\"] = [\"Bloodthirster\", \"Blood-Thirster-Song\"]"
   ]
  },
  {
   "cell_type": "code",
   "execution_count": 108,
   "metadata": {},
   "outputs": [],
   "source": [
    "# Bounty of Worlds\n",
    "item_dict[\"Bounty of Worlds\"] = [\"Bounty of Worlds\", \"Bounty of World\", \"Bounty Worlds\", \"Bounty-of-Worlds\"]"
   ]
  },
  {
   "cell_type": "code",
   "execution_count": 109,
   "metadata": {},
   "outputs": [],
   "source": [
    "# Celestial Opposition\n",
    "item_dict[\"Celestial Opposition\"] = [\"Celestial Opposition\", \"Celestial-Opposition\", \"Celestial Oposition\", \"Celestial-Oposition\"]"
   ]
  },
  {
   "cell_type": "code",
   "execution_count": 110,
   "metadata": {},
   "outputs": [],
   "source": [
    "# Chempunk Chainsword\n",
    "item_dict[\"Chempunk Chainsword\"] = [\"Chainsword\", \"Chempunk-Chainsword\", \"Chain-Sword\"]"
   ]
  },
  {
   "cell_type": "code",
   "execution_count": 111,
   "metadata": {},
   "outputs": [],
   "source": [
    "# Cosmic Drive\n",
    "item_dict[\"Cosmic Drive\"] = [\"Cosmic Drive\", \"Cosmic-Drive\"]"
   ]
  },
  {
   "cell_type": "code",
   "execution_count": 112,
   "metadata": {},
   "outputs": [],
   "source": [
    "# Cryptbloom\n",
    "item_dict[\"Cryptbloom\"] = [\"Cryptbloom\", \"Crypt-Bloom\", \"Cryptboom\", \"Cryptobloom\", \"Crypto-Bloom\"]"
   ]
  },
  {
   "cell_type": "code",
   "execution_count": 113,
   "metadata": {},
   "outputs": [],
   "source": [
    "# Dawncore\n",
    "item_dict[\"Dawncore\"] = [\"Dawncore\", \"Dawn-Core\"]"
   ]
  },
  {
   "cell_type": "code",
   "execution_count": 114,
   "metadata": {},
   "outputs": [],
   "source": [
    "# Dead Man's Plate\n",
    "item_dict[\"Dead Mans Plate\"] = [\"Dead Man's\", \"Dead Mans\", \"Dead-Man's-Plate\", \"Dead-Mans-Plate\"]"
   ]
  },
  {
   "cell_type": "code",
   "execution_count": 115,
   "metadata": {},
   "outputs": [],
   "source": [
    "# Death's Dance\n",
    "item_dict[\"Deaths Dance\"] = [\"Deaths Dance\", \"Death's Dance\", \"Death's-Dance\", \"Deaths-Dance\"]"
   ]
  },
  {
   "cell_type": "code",
   "execution_count": 116,
   "metadata": {},
   "outputs": [],
   "source": [
    "# Dream Maker\n",
    "item_dict[\"Dream Maker\"] = [\"Dream Maker\", \"Dream-Maker\"]"
   ]
  },
  {
   "cell_type": "code",
   "execution_count": 117,
   "metadata": {},
   "outputs": [],
   "source": [
    "# Echoes of Helia\n",
    "item_dict[\"Echoes of Helia\"] = [\"Echoes of Helia\", \"Echoes-of-Helia\", \"Echoes-Helia\", \"Helia Echoes\", \"Helia-Echoes\", \"Echos of Helia\", \"Echos-of-Helia\"]"
   ]
  },
  {
   "cell_type": "code",
   "execution_count": 118,
   "metadata": {},
   "outputs": [],
   "source": [
    "# Eclipse\n",
    "item_dict[\"Eclipse\"] = [\"Eclipse\", \"Eclips\"]"
   ]
  },
  {
   "cell_type": "code",
   "execution_count": 119,
   "metadata": {},
   "outputs": [],
   "source": [
    "# Edge of Night\n",
    "item_dict[\"Edge of Night\"] = [\"Edge of Night\", \"Edge-of-Night\", \"Edge Night\"]"
   ]
  },
  {
   "cell_type": "code",
   "execution_count": 120,
   "metadata": {},
   "outputs": [],
   "source": [
    "# Essence Reaver\n",
    "item_dict[\"Essence Reaver\"] = [\"Essence Reaver\", \"Essence-Reaver\", \"Esence Reaver\", \"Essence Reever\"]"
   ]
  },
  {
   "cell_type": "code",
   "execution_count": 121,
   "metadata": {},
   "outputs": [],
   "source": [
    "# Experimental Hexplate\n",
    "item_dict[\"Experimental Hexplate\"] = [\"Hexplate\", \"Experimental-Hexplate\", \"Hexxplate\", \"Hexplatte\"]"
   ]
  },
  {
   "cell_type": "code",
   "execution_count": 122,
   "metadata": {},
   "outputs": [],
   "source": [
    "# Fimbulwinter\n",
    "item_dict[\"Fimbulwinter\"] = [\"Fimbulwinter\", \"Fimbelwinter\", \"Fimbul-Winter\", \"Fimblewinter\", \"Fimble-Winter\", \"Fimbul\"]"
   ]
  },
  {
   "cell_type": "code",
   "execution_count": 123,
   "metadata": {},
   "outputs": [],
   "source": [
    "# Force of Nature\n",
    "item_dict[\"Force of Nature\"] = [\"Force of Nature\", \"Force-of-Nature\", \"Force Nature\", \"Force-Nature\"]"
   ]
  },
  {
   "cell_type": "code",
   "execution_count": 124,
   "metadata": {},
   "outputs": [],
   "source": [
    "# Frozen Heart\n",
    "item_dict[\"Frozen Heart\"] = [\"Frozen Heart\", \"Frozen-Heart\"]"
   ]
  },
  {
   "cell_type": "code",
   "execution_count": 125,
   "metadata": {},
   "outputs": [],
   "source": [
    "# Guardian Angel\n",
    "item_dict[\"Guardian Angel\"] = [\"Guardian\", \"Guardian-Angel\", \"Guardians\", \"Guardians-Angel\", \"GA\", \"G.A.\"]"
   ]
  },
  {
   "cell_type": "code",
   "execution_count": 126,
   "metadata": {},
   "outputs": [],
   "source": [
    "# Guinsoo's Rageblade\n",
    "item_dict[\"Guinsoos Rageblade\"] = [\"Guinsoo's\", \"Guinsoos\", \"Rageblade\", \"Guinsoo's-Rageblade\", \"Guinsoos-Rageblade\", \"Guinsos\", \"Guinso's\", \"Rage-Blade\"]"
   ]
  },
  {
   "cell_type": "code",
   "execution_count": 127,
   "metadata": {},
   "outputs": [],
   "source": [
    "# Heartsteel\n",
    "item_dict[\"Heartsteel\"] = [\"Heartsteel\", \"Heart-Steel\", \"Heartsteal\", \"Heart-Steal\"]"
   ]
  },
  {
   "cell_type": "code",
   "execution_count": 128,
   "metadata": {},
   "outputs": [],
   "source": [
    "# Hextech Rocketbelt\n",
    "item_dict[\"Hextech Rocketbelt\"] = [\"Hextech-Rocketbelt\", \"Rocketbelt\", \"Hex-Belt\", \"Hexbelt\", \"Hextech Belt\", \"Hextech-Belt\", \"Rocket Belt\", \"Rocket-Belt\"]"
   ]
  },
  {
   "cell_type": "code",
   "execution_count": 129,
   "metadata": {},
   "outputs": [],
   "source": [
    "# Hollow Radiance\n",
    "item_dict[\"Hollow Radiance\"] = [\"Hollow Radiance\", \"Hollow-Radiance\", \"Hallow Radiance\"]"
   ]
  },
  {
   "cell_type": "code",
   "execution_count": 130,
   "metadata": {},
   "outputs": [],
   "source": [
    "# Horizon Focus\n",
    "item_dict[\"Horizon Focus\"] = [\"Horizon Focus\", \"Horizon-Focus\"]"
   ]
  },
  {
   "cell_type": "code",
   "execution_count": 131,
   "metadata": {},
   "outputs": [],
   "source": [
    "# Hubris\n",
    "item_dict[\"Hubris\"] = [\"Hubris\", \"Hubriss\", \"Houbris\"]"
   ]
  },
  {
   "cell_type": "code",
   "execution_count": 132,
   "metadata": {},
   "outputs": [],
   "source": [
    "# Hullbreaker\n",
    "item_dict[\"Hullbreaker\"] = [\"Hullbreaker\", \"Hull-Breaker\", \"Hullbraker\", \"Hull-Braker\"]"
   ]
  },
  {
   "cell_type": "code",
   "execution_count": 133,
   "metadata": {},
   "outputs": [],
   "source": [
    "# Iceborn Gauntlet\n",
    "item_dict[\"Iceborn Gauntlet\"] = [\"Iceborn\", \"Iceborn-Gauntlet\", \"Ice-Born\"]"
   ]
  },
  {
   "cell_type": "code",
   "execution_count": 134,
   "metadata": {},
   "outputs": [],
   "source": [
    "# Immortal Shieldbow\n",
    "item_dict[\"Immortal Shieldbow\"] = [\"Shieldbow\", \"Immortal-Shieldbow\", \"Shield-Bow\"]"
   ]
  },
  {
   "cell_type": "code",
   "execution_count": 135,
   "metadata": {},
   "outputs": [],
   "source": [
    "# Imperial Mandate\n",
    "item_dict[\"Imperial Mandate\"] = [\"Imperial\", \"Mandate\", \"Imperial-Mandate\"]"
   ]
  },
  {
   "cell_type": "code",
   "execution_count": 136,
   "metadata": {},
   "outputs": [],
   "source": [
    "# Infinity Edge\n",
    "item_dict[\"Infinity Edge\"] = [\"Infinity Edge\", \"Infinity-Edge\", \"IE\", \"I.E.\", \"Infinitys Edge\", \"Infinities Edge\", \"Infinity's Edge\"]"
   ]
  },
  {
   "cell_type": "code",
   "execution_count": 137,
   "metadata": {},
   "outputs": [],
   "source": [
    "# Jak'Sho, The Protean\n",
    "item_dict[\"Jaksho\"] = [\"Jaksho\", \"Jak'Sho\", \"Jak-Sho\", \"Protean\", \"Jacksho\", \"Jack-Sho\", \"Jack'Sho\"]"
   ]
  },
  {
   "cell_type": "code",
   "execution_count": 138,
   "metadata": {},
   "outputs": [],
   "source": [
    "# Kaenic Rookern\n",
    "item_dict[\"Kaenic Rookern\"] = [\"Kaenic\", \"Rookern\", \"Kaenic-Rookern\"]"
   ]
  },
  {
   "cell_type": "code",
   "execution_count": 139,
   "metadata": {},
   "outputs": [],
   "source": [
    "# Knight's Vow\n",
    "item_dict[\"Knights Vow\"] = [\"Knight's Vow\", \"Knight's-Vow\", \"Knights Vow\", \"Knights-Vow\"]"
   ]
  },
  {
   "cell_type": "code",
   "execution_count": 140,
   "metadata": {},
   "outputs": [],
   "source": [
    "# Kraken Slayer\n",
    "item_dict[\"Kraken Slayer\"] = [\"Kraken\", \"Krakens\", \"Kraken's\", \"Kraken-Slayer\"]"
   ]
  },
  {
   "cell_type": "code",
   "execution_count": 141,
   "metadata": {},
   "outputs": [],
   "source": [
    "# Liandry's Torment\n",
    "item_dict[\"Liandrys Torment\"] = [\"Liandry's\", \"Liandrys\", \"Liandries\", \"Liandry's-Torment\", \"Liandrys-Torment\"]"
   ]
  },
  {
   "cell_type": "code",
   "execution_count": 142,
   "metadata": {},
   "outputs": [],
   "source": [
    "# Lich Bane\n",
    "item_dict[\"Lich Bane\"] = [\"Lich-Bane\", \"Lichbane\", \"Lichban\", \"Lich Bane\"]"
   ]
  },
  {
   "cell_type": "code",
   "execution_count": 143,
   "metadata": {},
   "outputs": [],
   "source": [
    "# Locket of the Iron Solari\n",
    "item_dict[\"Locket\"] = [\"Locket\", \"Iron Solari\", \"Locket-of-the-Iron-Solari\", \"Lockett\"]"
   ]
  },
  {
   "cell_type": "code",
   "execution_count": 144,
   "metadata": {},
   "outputs": [],
   "source": [
    "# Lord Dominik's Regards\n",
    "item_dict[\"Lord Dominiks Regards\"] = [\"Lord Dominik's\", \"Lord Dominiks\", \"Lord-Dominiks\", \"Lord-Dominik's\", \"LDR\", \"L.D.R.\", \"L.D.R\", \"Lord-Dominiks-Regards\"]"
   ]
  },
  {
   "cell_type": "code",
   "execution_count": 145,
   "metadata": {},
   "outputs": [],
   "source": [
    "# Luden's Companion\n",
    "item_dict[\"Ludens Companion\"] = [\"Luden's\", \"Ludens\", \"Ludens-Companion\", \"Luden's-Companion\"]"
   ]
  },
  {
   "cell_type": "code",
   "execution_count": 146,
   "metadata": {},
   "outputs": [],
   "source": [
    "# Malignance\n",
    "item_dict[\"Malignance\"] = [\"Malignance\", \"Malignace\", \"Mallignance\", \"Mallignace\"]"
   ]
  },
  {
   "cell_type": "code",
   "execution_count": 147,
   "metadata": {},
   "outputs": [],
   "source": [
    "# Manamune\n",
    "item_dict[\"Manamune\"] = [\"Manamune\", \"Mana-Mune\", \"Mannamune\", \"Manamun\"]"
   ]
  },
  {
   "cell_type": "code",
   "execution_count": 148,
   "metadata": {},
   "outputs": [],
   "source": [
    "# Maw of Malmortius\n",
    "item_dict[\"Maw\"] = [\"Maw\", \"Maw's\", \"Maws\", \"Malmortius\"]"
   ]
  },
  {
   "cell_type": "code",
   "execution_count": 149,
   "metadata": {},
   "outputs": [],
   "source": [
    "# Mejai's Soulstealer\n",
    "item_dict[\"Mejais Soulstealer\"] = [\"Mejai's\", \"Mejais\", \"Mejas\", \"Meja\", \"Soulstealer\", \"Mejais-Soulstealer\", \"Mejai's-Soulstealer\"]"
   ]
  },
  {
   "cell_type": "code",
   "execution_count": 150,
   "metadata": {},
   "outputs": [],
   "source": [
    "# Mercurial Scimitar\n",
    "item_dict[\"Mercurial Scimitar\"] = [\"Scimitar\", \"Mercurial-Scimitar\", \"Mercurial\"]"
   ]
  },
  {
   "cell_type": "code",
   "execution_count": 151,
   "metadata": {},
   "outputs": [],
   "source": [
    "# Mikael's Blessing\n",
    "item_dict[\"Mikaels Blessing\"] = [\"Mikaels\", \"Mikael's\", \"Mikaels-Blessing\", \"Mikael's-Blessing\"]"
   ]
  },
  {
   "cell_type": "code",
   "execution_count": 152,
   "metadata": {},
   "outputs": [],
   "source": [
    "# Moonstone Renewer\n",
    "item_dict[\"Moonstone Renewer\"] = [\"Moonstone\", \"Moonstone-Renewer\", \"Moon-Stone\"]"
   ]
  },
  {
   "cell_type": "code",
   "execution_count": 153,
   "metadata": {},
   "outputs": [],
   "source": [
    "# Morellonomicon\n",
    "item_dict[\"Morellonomicon\"] = [\"Morellonomicon\", \"Morello\", \"Morellos\", \"Morello's\", \"Morelonomicon\", \"Morellonomikon\", \"Morelonomikon\"]"
   ]
  },
  {
   "cell_type": "code",
   "execution_count": 154,
   "metadata": {},
   "outputs": [],
   "source": [
    "# Mortal Reminder\n",
    "item_dict[\"Mortal Reminder\"] = [\"Mortal Reminder\", \"Mortal-Reminder\"]"
   ]
  },
  {
   "cell_type": "code",
   "execution_count": 155,
   "metadata": {},
   "outputs": [],
   "source": [
    "# Muramana\n",
    "item_dict[\"Muramana\"] = [\"Muramana\", \"Muramanma\", \"Muramanma\", \"Mura-Mana\"]"
   ]
  },
  {
   "cell_type": "code",
   "execution_count": 156,
   "metadata": {},
   "outputs": [],
   "source": [
    "# Nashor's Tooth\n",
    "item_dict[\"Nashors Tooth\"] = [\"Nashor's-Tooth\", \"Nashors\", \"Nashor's\", \"Nashors-Tooth\"]"
   ]
  },
  {
   "cell_type": "code",
   "execution_count": 157,
   "metadata": {},
   "outputs": [],
   "source": [
    "# Navori Flickerblade\n",
    "item_dict[\"Navori Flickerblade\"] = [\"Flickerblade\", \"Flicker-Blade\", \"Navori-Flickerblade\"]"
   ]
  },
  {
   "cell_type": "code",
   "execution_count": 158,
   "metadata": {},
   "outputs": [],
   "source": [
    "# Opportunity\n",
    "item_dict[\"Opportunity\"] = [\"Opportunity\", \"Oportunity\"]"
   ]
  },
  {
   "cell_type": "code",
   "execution_count": 159,
   "metadata": {},
   "outputs": [],
   "source": [
    "# Overlord's Bloodmail\n",
    "item_dict[\"Overlords Bloodmail\"] = [\"Bloodmail\", \"Blood-Mail\", \"Overlord's\", \"Overlords\"]"
   ]
  },
  {
   "cell_type": "code",
   "execution_count": 160,
   "metadata": {},
   "outputs": [],
   "source": [
    "# Phantom Dancer\n",
    "item_dict[\"Phantom Dancer\"] = [\"Phantom Dancer\", \"Phantom-Dancer\"]"
   ]
  },
  {
   "cell_type": "code",
   "execution_count": 161,
   "metadata": {},
   "outputs": [],
   "source": [
    "# Profane Hydra\n",
    "item_dict[\"Profane Hydra\"] = [\"Profane\", \"Profane-Hydra\", \"Proffane\"]"
   ]
  },
  {
   "cell_type": "code",
   "execution_count": 162,
   "metadata": {},
   "outputs": [],
   "source": [
    "# Rabadon's Deathcap\n",
    "item_dict[\"Rabadons Deathcap\"] = [\"Rabadon's\", \"Rabadons\", \"Rabbadons\", \"Rabaddons\", \"Deathcap\", \"Death-Cap\", \"Rabadons-Deathcap\"]"
   ]
  },
  {
   "cell_type": "code",
   "execution_count": 163,
   "metadata": {},
   "outputs": [],
   "source": [
    "# Randuin's Omen\n",
    "item_dict[\"Randuin's Omen\"] = [\"Randuin's\", \"Randuins\", \"Randuin\", \"Randuin's-Omen\", \"Randuins-Omen\"]"
   ]
  },
  {
   "cell_type": "code",
   "execution_count": 164,
   "metadata": {},
   "outputs": [],
   "source": [
    "# Rapid Firecannon\n",
    "item_dict[\"Rapid Firecannon\"] = [\"Firecannon\", \"Rapid-Firecannon\", \"Fire-Cannon\"]"
   ]
  },
  {
   "cell_type": "code",
   "execution_count": 165,
   "metadata": {},
   "outputs": [],
   "source": [
    "# Ravenous Hydra\n",
    "item_dict[\"Ravenous Hydra\"] = [\"Ravenous\", \"Ravenous-Hydra\"]"
   ]
  },
  {
   "cell_type": "code",
   "execution_count": 166,
   "metadata": {},
   "outputs": [],
   "source": [
    "# Redemption\n",
    "item_dict[\"Redemption\"] = [\"Redemption\", \"Redemtion\"]"
   ]
  },
  {
   "cell_type": "code",
   "execution_count": 167,
   "metadata": {},
   "outputs": [],
   "source": [
    "# Riftmaker\n",
    "item_dict[\"Riftmaker\"] = [\"Riftmaker\", \"Rift-Maker\", \"Rift Maker\"]"
   ]
  },
  {
   "cell_type": "code",
   "execution_count": 168,
   "metadata": {},
   "outputs": [],
   "source": [
    "# Rod of Ages\n",
    "item_dict[\"Rod of Ages\"] = [\"Rod of Ages\", \"Rod-of-Ages\", \"Ages Rod\"]"
   ]
  },
  {
   "cell_type": "code",
   "execution_count": 169,
   "metadata": {},
   "outputs": [],
   "source": [
    "# Runaan's Hurricane\n",
    "item_dict[\"Runaans Hurricane\"] = [\"Runaan's\", \"Runaans\", \"Runaans-Hurricane\", \"Runaan's-Hurricane\", \"Runan's\", \"Runans\"]"
   ]
  },
  {
   "cell_type": "code",
   "execution_count": 170,
   "metadata": {},
   "outputs": [],
   "source": [
    "# Rylai's Crystal Scepter\n",
    "item_dict[\"Rylais Crystal Scepter\"] = [\"Rylai's\", \"Rylais\", \"Raylai's\", \"Raylais\", \"Crystal Scepter\", \"Crystal-Scepter\"]"
   ]
  },
  {
   "cell_type": "code",
   "execution_count": 171,
   "metadata": {},
   "outputs": [],
   "source": [
    "# Seraph's Embrace\n",
    "item_dict[\"Seraphs Embrace\"] = [\"Seraph's-Embrace\", \"Seraph's\", \"Seraphs\", \"Seraphs-Embrace\"]"
   ]
  },
  {
   "cell_type": "code",
   "execution_count": 172,
   "metadata": {},
   "outputs": [],
   "source": [
    "# Serpent's Fang\n",
    "item_dict[\"Serpents Fang\"] = [\"Serpent's\", \"Serpents\", \"Serpents-Fang\", \"Serpent's-Fang\"]"
   ]
  },
  {
   "cell_type": "code",
   "execution_count": 173,
   "metadata": {},
   "outputs": [],
   "source": [
    "# Serylda's Grudge\n",
    "item_dict[\"Seryldas Grudge\"] = [\"Serylda's-Grudge\", \"Seryldas-Grudge\", \"Seryldas\", \"Serylda's\", \"Sereldas\", \"Serelda's\"]"
   ]
  },
  {
   "cell_type": "code",
   "execution_count": 174,
   "metadata": {},
   "outputs": [],
   "source": [
    "# Shadowflame\n",
    "item_dict[\"Shadowflame\"] = [\"Shadowflame\", \"Shadow-Flame\", \"Shaddowflame\", \"Shaddow-Flame\"]"
   ]
  },
  {
   "cell_type": "code",
   "execution_count": 175,
   "metadata": {},
   "outputs": [],
   "source": [
    "# Shurelya's Battlesong\n",
    "item_dict[\"Shurelyas Battlesong\"] = [\"Shurelya's\", \"Shurelyas\", \"Shurelyas-Battlesong\", \"Shurelya's-Battlesong\"]"
   ]
  },
  {
   "cell_type": "code",
   "execution_count": 176,
   "metadata": {},
   "outputs": [],
   "source": [
    "# Solstice Sleigh\n",
    "item_dict[\"Solstice Sleigh\"] = [\"Solstice Sleigh\", \"Solstice-Sleigh\", \"Sol Sleigh\", \"Sol-Sleigh\", \"Sol. Sleigh\"]"
   ]
  },
  {
   "cell_type": "code",
   "execution_count": 177,
   "metadata": {},
   "outputs": [],
   "source": [
    "# Spear of Shojin\n",
    "item_dict[\"Spear of Shojin\"] = [\"Shojin\", \"Spear-Shojin\", \"Shojin-Spear\", \"Spear-of-Shojin\"]"
   ]
  },
  {
   "cell_type": "code",
   "execution_count": 178,
   "metadata": {},
   "outputs": [],
   "source": [
    "# Sunfire Aegis\n",
    "item_dict[\"Sunfire Aegis\"] = [\"Sunfire\", \"Aegis\", \"Sunfire-Aegis\", \"Sun-Fire\"]"
   ]
  },
  {
   "cell_type": "code",
   "execution_count": 179,
   "metadata": {},
   "outputs": [],
   "source": [
    "# Spirit Visage\n",
    "item_dict[\"Spirit Visage\"] = [\"Spirit-Visage\", \"Visage\"]"
   ]
  },
  {
   "cell_type": "code",
   "execution_count": 180,
   "metadata": {},
   "outputs": [],
   "source": [
    "# Staff of Flowing Water\n",
    "item_dict[\"Staff of Flowing Water\"] = [\"Staff of Flowing Water\", \"Flowing Water Staff\", \"Flowing-Water-Staff\"]"
   ]
  },
  {
   "cell_type": "code",
   "execution_count": 181,
   "metadata": {},
   "outputs": [],
   "source": [
    "# Statikk Shiv\n",
    "item_dict[\"Statikk Shiv\"] = [\"Statikk\", \"Shiv\", \"Statik Shiv\", \"Statik-Shiv\", \"Statikk-Shiv\"]"
   ]
  },
  {
   "cell_type": "code",
   "execution_count": 182,
   "metadata": {},
   "outputs": [],
   "source": [
    "# Sterak's Gage\n",
    "item_dict[\"Steraks Gage\"] = [\"Sterak's\", \"Steraks\", \"Steracks\", \"Sterak's-Gage\", \"Steraks-Gage\"]"
   ]
  },
  {
   "cell_type": "code",
   "execution_count": 183,
   "metadata": {},
   "outputs": [],
   "source": [
    "# Stormsurge\n",
    "item_dict[\"Stormsurge\"] = [\"Stormsurge\", \"Storm-Surge\", \"Storm Surge\"]"
   ]
  },
  {
   "cell_type": "code",
   "execution_count": 184,
   "metadata": {},
   "outputs": [],
   "source": [
    "# Stridebreaker\n",
    "item_dict[\"Stridebreaker\"] = [\"Stridebreaker\", \"Stride-Breaker\", \"Stride Breaker\", \"Stridebraker\", \"Stride Braker\"]"
   ]
  },
  {
   "cell_type": "code",
   "execution_count": 185,
   "metadata": {},
   "outputs": [],
   "source": [
    "# Sundered Sky\n",
    "item_dict[\"Sundered Sky\"] = [\"Sundered\", \"Sundered-Sky\"]"
   ]
  },
  {
   "cell_type": "code",
   "execution_count": 186,
   "metadata": {},
   "outputs": [],
   "source": [
    "# Terminus\n",
    "item_dict[\"Terminus\"] = [\"Terminus\", \"Termimnus\", \"Termminus\", \"Therminus\"]"
   ]
  },
  {
   "cell_type": "code",
   "execution_count": 187,
   "metadata": {},
   "outputs": [],
   "source": [
    "# The Collector\n",
    "item_dict[\"The Collector\"] = [\"Collector\", \"Colector\", \"Collecktor\"]"
   ]
  },
  {
   "cell_type": "code",
   "execution_count": 188,
   "metadata": {},
   "outputs": [],
   "source": [
    "# Thornmail\n",
    "item_dict[\"Thornmail\"] = [\"Thornmail\", \"Thorn-Mail\", \"Thornmaile\", \"Thorn Mail\", \"Thornmale\"]"
   ]
  },
  {
   "cell_type": "code",
   "execution_count": 189,
   "metadata": {},
   "outputs": [],
   "source": [
    "# Titanic Hydra\n",
    "item_dict[\"Titanic Hydra\"] = [\"Titanic\", \"Titanic-Hydra\", \"Titanick\"]"
   ]
  },
  {
   "cell_type": "code",
   "execution_count": 190,
   "metadata": {},
   "outputs": [],
   "source": [
    "# Trailblazer\n",
    "item_dict[\"Trailblazer\"] = [\"Trailblazer\", \"Trailblaizer\", \"Trail-Blazer\", \"Trail Blazer\"]"
   ]
  },
  {
   "cell_type": "code",
   "execution_count": 191,
   "metadata": {},
   "outputs": [],
   "source": [
    "# Trinity Force\n",
    "item_dict[\"Trinity Force\"] = [\"Trinity-Force\", \"Trinity\", \"Triforce\", \"Tri-Force\", \"Tri Force\"]"
   ]
  },
  {
   "cell_type": "code",
   "execution_count": 192,
   "metadata": {},
   "outputs": [],
   "source": [
    "# Umbral Glaive\n",
    "item_dict[\"Umbral Glaive\"] = [\"Umbral-Glaive\", \"Umbral\"]"
   ]
  },
  {
   "cell_type": "code",
   "execution_count": 193,
   "metadata": {},
   "outputs": [],
   "source": [
    "# Unending Despair\n",
    "item_dict[\"Unending Despair\"] = [\"Unending Despair\", \"Unending-Despair\", \"Un-ending Despair\"]"
   ]
  },
  {
   "cell_type": "code",
   "execution_count": 194,
   "metadata": {},
   "outputs": [],
   "source": [
    "# Vigilant Wardstone\n",
    "item_dict[\"Vigilant Wardstone\"] = [\"Wardstone\", \"Ward-Stone\", \"Vigilant-Wardstone\"]"
   ]
  },
  {
   "cell_type": "code",
   "execution_count": 195,
   "metadata": {},
   "outputs": [],
   "source": [
    "# Void Staff\n",
    "item_dict[\"Void Staff\"] = [\"Void Staff\", \"Void Staf\", \"Void-Staff\", \"Void-Staf\"]"
   ]
  },
  {
   "cell_type": "code",
   "execution_count": 196,
   "metadata": {},
   "outputs": [],
   "source": [
    "# Voltaic Cyclosword\n",
    "item_dict[\"Voltaic Cyclosword\"] = [\"Voltaic\", \"Cyclosword\", \"Cyclo-Sword\", \"Voltaic-Cyclosword\"]"
   ]
  },
  {
   "cell_type": "code",
   "execution_count": 197,
   "metadata": {},
   "outputs": [],
   "source": [
    "# Warmog's Armor\n",
    "item_dict[\"Warmogs Armor\"] = [\"Warmog's\", \"Warmogs\", \"Warmongs\", \"Warmong's\", \"Warmogs-Armor\"]"
   ]
  },
  {
   "cell_type": "code",
   "execution_count": 198,
   "metadata": {},
   "outputs": [],
   "source": [
    "# Winter's Approach\n",
    "item_dict[\"Winters Approach\"] = [\"Winter's Approach\", \"Winters Approach\", \"Winters-Approach\", \"Winter Approach\", \"Winters Aproach\", \"Winter's-Approach\", \"Winters-Approach\"]"
   ]
  },
  {
   "cell_type": "code",
   "execution_count": 199,
   "metadata": {},
   "outputs": [],
   "source": [
    "# Wit's End\n",
    "item_dict[\"Wits End\"] = [\"Wits End\", \"Wit's End\", \"Wits-End\", \"Wit's-End\", \"Witsend\", \"Witts End\", \"Witt's End\"]"
   ]
  },
  {
   "cell_type": "code",
   "execution_count": 200,
   "metadata": {},
   "outputs": [],
   "source": [
    "# Youmuu's Ghostblade\n",
    "item_dict[\"Youmuus Ghostblade\"] = [\"Youmuu's\", \"Youmuus\", \"Youmus\", \"Youmu's\", \"Yomus\", \"Yomu's\", \"Ghostblade\", \"Ghost-Blade\"]"
   ]
  },
  {
   "cell_type": "code",
   "execution_count": 201,
   "metadata": {},
   "outputs": [],
   "source": [
    "# Yun Tal Wildarrows\n",
    "item_dict[\"Yun Tal Wildarrows\"] = [\"Yun Tal\", \"Yun-Tal\", \"Wildarrows\", \"Wildarrow\", \"Wild-Arrows\", \"Wild-Arrow\"]"
   ]
  },
  {
   "cell_type": "code",
   "execution_count": 202,
   "metadata": {},
   "outputs": [],
   "source": [
    "# Zaz'Zak's Realmspike\n",
    "item_dict[\"Zaz'Zak's Realmspike\"] = [\"Zaz'Zak's\", \"Zak's\", \"Zaks\", \"Zack's\", \"Zacks\", \"Realmspike\", \"Realm-Spike\"]"
   ]
  },
  {
   "cell_type": "code",
   "execution_count": 203,
   "metadata": {},
   "outputs": [],
   "source": [
    "# Zhonya's Hourglass\n",
    "item_dict[\"Zhonya's Hourglass\"] = [\"Zhonya's\", \"Zhonyas\", \"Zhonya\", \"Zonya's\", \"Zonyas\", \"Zonya\", \"Hourglass\", \"Hour-Glass\", \"Hourglas\"]"
   ]
  },
  {
   "cell_type": "code",
   "execution_count": 204,
   "metadata": {},
   "outputs": [],
   "source": [
    "# Zhonya's Hourglass\n",
    "item_dict[\"Zhonya's Hourglass\"] = [\"Zhonya's\", \"Zhonyas\", \"Zhonya\", \"Zonya's\", \"Zonyas\", \"Zonya\", \"Hourglass\", \"Hour-Glass\", \"Hourglas\"]"
   ]
  },
  {
   "cell_type": "code",
   "execution_count": 205,
   "metadata": {},
   "outputs": [],
   "source": [
    "# Export Dictionary\n",
    "with open('item_dictionary.json', 'w') as file:\n",
    "    json.dump(item_dict, file)"
   ]
  },
  {
   "cell_type": "markdown",
   "metadata": {},
   "source": [
    "### Inspect Dictionary"
   ]
  },
  {
   "cell_type": "code",
   "execution_count": 206,
   "metadata": {},
   "outputs": [
    {
     "data": {
      "text/plain": [
       "199"
      ]
     },
     "execution_count": 206,
     "metadata": {},
     "output_type": "execute_result"
    }
   ],
   "source": [
    "len(item_dict)"
   ]
  },
  {
   "cell_type": "code",
   "execution_count": 207,
   "metadata": {},
   "outputs": [
    {
     "name": "stdout",
     "output_type": "stream",
     "text": [
      "Cull: ['Cull', 'Cul', 'Culll']\n",
      "Dark Seal: ['Dark Seal', 'Dark-Seal', 'Dark-Seel', 'Dark Seel']\n",
      "Dorans Blade: [\"Doran's Blade\", 'Dorans Blade', 'Dorans Blad', \"Doran's Blad\", 'D Blade', 'D-Blade', 'DBlade']\n",
      "Dorans Ring: [\"Doran's Ring\", 'Dorans Ring', 'D Ring', 'D-Ring', 'DRing']\n",
      "Dorans Shield: [\"Doran's Shield\", 'Dorans Shield', 'D Shield', 'D-Shield', 'DShield']\n",
      "Gustwalker Hatchling: ['Gustwalker-Hatchling', 'Gustwalker', 'Hatchling', 'Gastwalker', 'Blue-Smite', 'Blue Smite', 'BlueSmite']\n",
      "Mosstomper Seedling: ['Mosstomper-Seedling', 'Mosstomper', 'Seedling', 'Mostomper', 'Green-Smite', 'Green Smite', 'GreenSmite']\n",
      "Scorchclaw Pup: ['Scorchclaw-Pup', 'Scorchclaw', 'Pup', 'Skorchclaw', 'Red-Smite', 'Red Smite', 'RedSmite']\n",
      "Tear of the Goddess: ['Tear of the Goddess', 'Tear of Goddess', 'Tear', 'Mana-Tear', 'Mana Tear', 'Goddess Tear', 'Tear of the Godess', 'Tear of the Goddes']\n",
      "World Atlas: ['World Atlas', 'World-Atlas', 'World Attlas', 'World-Attlas']\n",
      "Control Ward: ['Control Ward', 'Control-Ward']\n",
      "Elixir of Iron: ['Elixir of Iron', 'Elexir of Iron', 'Iron Elixir', 'Iron-Elixir', 'Yellow Elixir']\n",
      "Elixir of Sorcery: ['Elixir of Sorcery', 'Elexir of Sorcery', 'Sorcery Elixir', 'Sorcery-Elixir', 'Blue Elixir', 'Purple Elixir']\n",
      "Elixir of Wrath: ['Elixir of Wrath', 'Elexir of Wrath', 'Wrath Elixir', 'Wrath-Elixir', 'Elixir of Warth', 'Warth Elixir', 'Warth-Elixir', 'Red Elixir']\n",
      "Health Potion: ['Health Potion', 'Health-Potion', 'Heeling Potion', 'Red Potion', 'Red-Potion', 'Health Potions', 'Health-Potions', 'Heeling Potions', 'Red Potions']\n",
      "Refillable Potion: ['Refillable Potion', 'Refillable-Potion', 'Refillable', 'Refillables', 'Refillable Potions', 'Refillable-Potions']\n",
      "Farsight Alteration: ['Farsight', 'Alteration', 'Farsight-Alteration', 'Blue Trinket', 'Blue-Trinket', 'BlueTrinket', 'Blue Ward', 'Blue-Ward', 'BlueWard', 'Blue Wards']\n",
      "Oracle Lens: ['Oracle Lens', 'Oracle Lense', 'Oracle-Lense', 'Oracle-Lens', 'Oracle', 'Sweeper', 'Sweeper-Drone', 'SweeperDrone', 'Sweaper', 'Sweeper Drone']\n",
      "Stealth Ward: ['Stealth Ward', 'Stealth-Ward', 'Totem Ward', 'Yellow Ward', 'Yellow Wards', 'Yellow-Ward', 'Yellow-Wards', 'Stealth Wards', 'Stealth-Wards']\n",
      "Slightly Magical Boots: ['Slightly Magical Boots', 'Slightly-Magical Boots', 'Slightly-Magical-Boots', 'Magical Boots', 'Magical-Boots', 'Magic Boots']\n",
      "Biscuit: ['Biscuit', 'Biscuits', 'Total Biscuit', 'Total Biscuit of Everlasting Will', 'Biscuitts', 'Total-Biscuit', 'Total-Biscuits']\n",
      "Elixir of Avarice: ['Avarice', 'Avarice-Elixir']\n",
      "Elixir of Force: ['Elixir of Force', 'Force-Elixir', 'Elixir-of-Force']\n",
      "Elixir of Skill: ['Elixir of Skill', 'Skill-Elixir', 'Elixir-of-Skill']\n",
      "Berserkers Greaves: [\"Berserker's\", 'Greaves', 'Berserkers', 'Berserkers-Greaves', 'Berserks', \"Berserk's\", 'Attack Speed Boots', 'Beserks', \"Beserk's\"]\n",
      "Boots: ['Boots', 'Standard-Boots', 'Basic-Boots', 'Starter-Boots', 'Tier-One-Boots', 'Tier-1-Boots']\n",
      "Boots of Swiftness: ['Boots of Swiftness', 'Swiftness-Boots', 'Boots of Swiftnes', 'Swiftnes-Boots', 'Swifties', 'Swiftys', 'Swiftness Boots']\n",
      "Boots of Lucidity: ['Ionian Boots', 'Boots of Lucidity', 'Lucidity-Boots', 'Lucids', \"Lucid's\", 'Ionians', \"Ionian's\"]\n",
      "Mercurys Treads: [\"Mercury's\", 'Mercury', 'Mercs', 'Merks', 'Merc', 'Treads', 'MR Boots', 'MR-Boots', 'Merc-Treads', 'Tenacity Boots', 'Tenacity-Boots']\n",
      "Plated Steelcaps: ['Plated', 'Steelcaps', 'Plated-Steelcaps', 'Tabbies', 'Tabbys', 'Ninja-Tabbies', 'Ninja-Tabi', 'Tabi', 'Tabies']\n",
      "Sorcerers Shoes: [\"Sorcerer's Shoes\", 'Sorcerers Shoes', 'Sorc Shoes', 'Sorc-Shoes', 'Sorcs', 'MP Boots', 'Magicpen Boots', 'MPen Boots', 'M-Pen Boots']\n",
      "Symbiotic Soles: ['Symbiotic Soles', 'Symbiotic-Soles', 'Symbiotic Boots', 'Symbiotic-Boots']\n",
      "Zephyr: ['Zephyr', 'Zephyr-Boots']\n",
      "Amplifying Tome: ['Amplifying Tome', 'Amplifying-Tome', 'Amp Tome', 'Amp-Tome', 'Tome', 'Tomes', 'Amp-Tomes', 'Amp Tomes']\n",
      "BF Sword: ['B. F. Sword', 'BF Sword', 'BF-Sword', 'Big Fucking Sword', 'BFS']\n",
      "Blasting Wand: ['Blasting Wand', 'Blasting-Wand', 'BWand', 'Blast-Wand', 'Blast Wand', 'B-Wand']\n",
      "Cloak of Agility: ['Cloak of Agility', 'Agility Cloak', 'Agility-Cloak', 'Cloak', 'Crit-Cloak', 'Cloaks']\n",
      "Cloth Armor: ['Cloth Armor', 'Cloth-Armor', 'Amor Cloth', 'Amor-Cloth', 'Amored Cloth', 'Cloth']\n",
      "Dagger: ['Dagger', 'Dager', 'Attack-Speed-Dagger', 'AS-Dagger']\n",
      "Faerie Charm: ['Faerie Charm', 'Faerie-Charm', 'Faery Charm', 'Faeries Charm', 'Ferry Charm', 'Fearicharm']\n",
      "Glowing Mote: ['Glowing Mote', 'Glowing-Mote', 'Mote', 'Motte', 'Haste Mote', 'Haste-Mote', 'Motes']\n",
      "Long Sword: ['Long Sword', 'Long-Sword', 'Longsword']\n",
      "Needlessly Large Rod: ['Needlessly-Large Rod', 'Large Rod', 'Needlessly-Large-Rod', 'NLR', 'Large Rods']\n",
      "Null Magic Mantle: ['Null-Magic Mantle', 'Null Magic Mantle', 'Nullmagic Mantle', 'Nullmagic-Mantle', 'Mantle', 'MR-Mantle', 'Mantles']\n",
      "Pickaxe: ['Pickaxe', 'Pickaxes', 'Pick-Axe', 'Pick-Axes']\n",
      "Rejuvenation Bead: ['Rejuvenation Bead', 'Rejuvenation-Bead', 'RBead', 'R-Bead', 'Bead of Rejuvenation', 'Rejuvenation Beads', 'R-Beads']\n",
      "Ruby Crystal: ['Ruby Crystal', 'Ruby-Crystal', 'Ruby', 'Rubies', 'HP-Crystal']\n",
      "Sapphire Crystal: ['Sapphire Crystal', 'Sapphire-Crystal', 'Sapphire', 'Sapphires', 'Saphire Crystal', 'Sapphire-Crystals', 'Mana Crystal', 'Mana Crystals']\n",
      "Aether Wisp: ['Aether', 'Aether-Wisp', 'Wisp', 'Wisps']\n",
      "Bamis Cinder: ['Bamis-Cinder', 'Bamis', \"Bami's\", \"Bami's-Cinder\", 'Cinder']\n",
      "Bandleglass Mirror: ['Bandleglass', 'Bandleglass-Mirror', 'Bandle Mirror', 'Bandle-Mirror']\n",
      "Blighting Jewel: ['Blighting Jewel', 'Blighting-Jewel', 'Blight Jewel', 'Blight-Jewel']\n",
      "Bramble Vest: ['Bramble-Vest', 'Bramble']\n",
      "Catalyst of Aeons: ['Catalyst', 'Aeons-Catalyst', 'Aeon-Catalyst', 'Catalysts']\n",
      "Caulfields Warhammer: [\"Caulfield's\", 'Warhammer', 'Caulfields', 'Caulefields', \"Caulefield's\", 'Warhammers']\n",
      "Chain Vest: ['Chain Vest', 'Chain-Vest', 'Armor Vest', 'Armor-Vest']\n",
      "Crystalline Bracer: ['Crystalline', 'Crystalline-Bracer', 'Crystalline-Bracers', 'Bracer', 'Bracers', 'Crystal-Bracers']\n",
      "Executioners Calling: [\"Executioner's\", 'Executioners', 'Calling', 'Executioners-Calling', \"Executioner's-Calling\"]\n",
      "Fated Ashes: ['Fated-Ashes', 'Fated Ashes', 'Fated Ashe']\n",
      "Fiendish Codex: ['Fiendish', 'Fiendish-Codex', 'Codex', 'Codexes', 'Codices']\n",
      "Forbidden Idol: ['Forbidden Idol', 'Forbidden-Idol', 'Forbiden Idol', 'Forbiden-Idol']\n",
      "Giants Belt: [\"Giant's Belt\", \"Giant's-Belt\", 'Giants-Belt', 'Giants Belt', 'Giant Belt', 'Giant-Belt']\n",
      "Glacial Buckler: ['Glacial Buckler', 'Glacial-Buckler', 'Glacier Buckler', 'Glacier-Buckler']\n",
      "Haunting Guise: ['Haunting Guise', 'Haunting-Guise']\n",
      "Hearthbound Axe: ['Hearthbound Axe', 'Hearthbound-Axe', 'Heartbound Axe', 'Heartbound-Axe']\n",
      "Hexdrinker: ['Hexdrinker', 'Hex Drinker', 'Hex-Drinker']\n",
      "Hextech Alternator: ['Hextech-Alternator', 'Alternator', 'Alternators', 'Hex-Tech-Alternator']\n",
      "Kindlegem: ['Kindlegem', 'Kindle Gem', 'Kindle-Gem', 'Kindelinggem', 'Kindeling-Gem', 'Kindling Gem']\n",
      "Last Whisper: ['Last Whisper', 'Last-Whisper']\n",
      "Lost Chapter: ['Lost Chapter', 'Lost-Chapter', 'Lostchapter']\n",
      "Negatron Cloak: ['Negatron', 'Negatron-Cloak', 'MR-Cloal', 'MR Cloak']\n",
      "Noonquiver: ['Noonquiver', 'Noon Quiver', 'Noon-Quiver']\n",
      "Oblivion Orb: ['Oblivion Orb', 'Oblivion-Orb', 'Obliv-Orb', 'Obliv Orb', 'Ob-Orb', 'Oblivionorb']\n",
      "Phage: ['Phage', 'Phag', 'Phague']\n",
      "Quicksilver Sash: ['Quicksilver', 'Sash', 'Quicksilver-Sash', 'QSS', 'Q.S.S', 'QSS']\n",
      "Rectrix: ['Rectrix', 'Recktrix', 'Rectricks']\n",
      "Recurve Bow: ['Recurve Bow', 'Recurve-Bow', 'Recurvebow']\n",
      "Runic Compass: ['Runic Compass', 'Runic-Compass', 'Runiccompass', 'Runicompass', 'Runic Compas']\n",
      "Scouts Slingshot: [\"Scout's\", 'Scouts', \"Scout's-Slingshot\", 'Scouts-Slingshot', 'Slingshot', 'Slingshots']\n",
      "Seekers Armguard: [\"Seeker's\", 'Armguard', 'Seekers', 'Seekers-Armguard', \"Seeker's-Armguard\", 'Shattered-Armguard']\n",
      "Serrated Dirk: ['Dirks', 'Serrated-Dirk', 'Dirk']\n",
      "Sheen: ['Sheen', 'Sheens']\n",
      "Spectress Cowl: [\"Spectre's Cowl\", 'Spectres Cowl', \"Spectre's-Cowl\", 'SpectresCowl', 'Spectrescowl']\n",
      "Steel Sigil: ['Steel-Sigil', 'Sigil', 'Sigils']\n",
      "Brutalizer: ['Brutalizer', 'Brutealizer']\n",
      "Tiamat: ['Tiamat', 'Tiammat', 'Tiamate']\n",
      "Tunneler: ['Tunneler', 'Tunnelers', 'Tuneler', 'Tunneller']\n",
      "Vampiric Scepter: ['Vampiric', 'Vampiric-Scepter', 'Scepter', 'Scepters']\n",
      "Verdant Barrier: ['Verdant Barrier', 'Verdant-Barrier']\n",
      "Wardens Mail: [\"Warden's Mail\", 'Wardens Mail', \"Warden's-Mail\", 'Wardens-Mail', 'Warden Mail', 'Warden-Mail']\n",
      "Watchful Wardstone: ['Watchful Wardstone', 'Watchful-Wardstone']\n",
      "Winged Moonplate: ['Moonplate', 'Winged-Moonplate', 'Moonplates']\n",
      "Zeal: ['Zeal', 'Zeals']\n",
      "Abyssal Mask: ['Abyssal', 'Abyssal-Mask']\n",
      "Archangels Staff: [\"Archangel's\", 'Archangels', 'Archangels-Staff', 'Archangel-Staff', 'Arch-Staff', 'Arch Staff', 'Arc-Staff', 'Arc Staff']\n",
      "Ardent Censer: ['Ardent', 'Ardent-Censer', 'Ardend']\n",
      "Axiom Arc: ['Axiom', 'Axiom-Arc', 'Axxiom', 'Axiome', 'Axxiome']\n",
      "Banshees Veil: ['Banshees', 'Banshees-Veil', \"Banshee's\", 'Banshes', \"Banshe's\", 'Bannshees']\n",
      "Black Cleaver: ['Cleaver', 'Black-Cleaver']\n",
      "Blackfire Torch: ['Blackfire', 'Blackfire-Torch', 'Black-Fire-Torch']\n",
      "BORK: ['Blade of the Ruined King', 'Blade of Ruined King', 'Ruined King Blade', 'BORK', 'B.O.R.K', 'BORG', 'Blade of the Ruined']\n",
      "Bloodsong: ['Bloodsong', 'Blood-Song', 'Blodsong']\n",
      "Bloodthirster: ['Bloodthirster', 'Blood-Thirster-Song']\n",
      "Bounty of Worlds: ['Bounty of Worlds', 'Bounty of World', 'Bounty Worlds', 'Bounty-of-Worlds']\n",
      "Celestial Opposition: ['Celestial Opposition', 'Celestial-Opposition', 'Celestial Oposition', 'Celestial-Oposition']\n",
      "Chempunk Chainsword: ['Chainsword', 'Chempunk-Chainsword', 'Chain-Sword']\n",
      "Cosmic Drive: ['Cosmic Drive', 'Cosmic-Drive']\n",
      "Cryptbloom: ['Cryptbloom', 'Crypt-Bloom', 'Cryptboom', 'Cryptobloom', 'Crypto-Bloom']\n",
      "Dawncore: ['Dawncore', 'Dawn-Core']\n",
      "Dead Mans Plate: [\"Dead Man's\", 'Dead Mans', \"Dead-Man's-Plate\", 'Dead-Mans-Plate']\n",
      "Deaths Dance: ['Deaths Dance', \"Death's Dance\", \"Death's-Dance\", 'Deaths-Dance']\n",
      "Dream Maker: ['Dream Maker', 'Dream-Maker']\n",
      "Echoes of Helia: ['Echoes of Helia', 'Echoes-of-Helia', 'Echoes-Helia', 'Helia Echoes', 'Helia-Echoes', 'Echos of Helia', 'Echos-of-Helia']\n",
      "Eclipse: ['Eclipse', 'Eclips']\n",
      "Edge of Night: ['Edge of Night', 'Edge-of-Night', 'Edge Night']\n",
      "Essence Reaver: ['Essence Reaver', 'Essence-Reaver', 'Esence Reaver', 'Essence Reever']\n",
      "Experimental Hexplate: ['Hexplate', 'Experimental-Hexplate', 'Hexxplate', 'Hexplatte']\n",
      "Fimbulwinter: ['Fimbulwinter', 'Fimbelwinter', 'Fimbul-Winter', 'Fimblewinter', 'Fimble-Winter', 'Fimbul']\n",
      "Force of Nature: ['Force of Nature', 'Force-of-Nature', 'Force Nature', 'Force-Nature']\n",
      "Frozen Heart: ['Frozen Heart', 'Frozen-Heart']\n",
      "Guardian Angel: ['Guardian', 'Guardian-Angel', 'Guardians', 'Guardians-Angel', 'GA', 'G.A.']\n",
      "Guinsoos Rageblade: [\"Guinsoo's\", 'Guinsoos', 'Rageblade', \"Guinsoo's-Rageblade\", 'Guinsoos-Rageblade', 'Guinsos', \"Guinso's\", 'Rage-Blade']\n",
      "Heartsteel: ['Heartsteel', 'Heart-Steel', 'Heartsteal', 'Heart-Steal']\n",
      "Hextech Rocketbelt: ['Hextech-Rocketbelt', 'Rocketbelt', 'Hex-Belt', 'Hexbelt', 'Hextech Belt', 'Hextech-Belt', 'Rocket Belt', 'Rocket-Belt']\n",
      "Hollow Radiance: ['Hollow Radiance', 'Hollow-Radiance', 'Hallow Radiance']\n",
      "Horizon Focus: ['Horizon Focus', 'Horizon-Focus']\n",
      "Hubris: ['Hubris', 'Hubriss', 'Houbris']\n",
      "Hullbreaker: ['Hullbreaker', 'Hull-Breaker', 'Hullbraker', 'Hull-Braker']\n",
      "Iceborn Gauntlet: ['Iceborn', 'Iceborn-Gauntlet', 'Ice-Born']\n",
      "Immortal Shieldbow: ['Shieldbow', 'Immortal-Shieldbow', 'Shield-Bow']\n",
      "Imperial Mandate: ['Imperial', 'Mandate', 'Imperial-Mandate']\n",
      "Infinity Edge: ['Infinity Edge', 'Infinity-Edge', 'IE', 'I.E.', 'Infinitys Edge', 'Infinities Edge', \"Infinity's Edge\"]\n",
      "Jaksho: ['Jaksho', \"Jak'Sho\", 'Jak-Sho', 'Protean', 'Jacksho', 'Jack-Sho', \"Jack'Sho\"]\n",
      "Kaenic Rookern: ['Kaenic', 'Rookern', 'Kaenic-Rookern']\n",
      "Knights Vow: [\"Knight's Vow\", \"Knight's-Vow\", 'Knights Vow', 'Knights-Vow']\n",
      "Kraken Slayer: ['Kraken', 'Krakens', \"Kraken's\", 'Kraken-Slayer']\n",
      "Liandrys Torment: [\"Liandry's\", 'Liandrys', 'Liandries', \"Liandry's-Torment\", 'Liandrys-Torment']\n",
      "Lich Bane: ['Lich-Bane', 'Lichbane', 'Lichban', 'Lich Bane']\n",
      "Locket: ['Locket', 'Iron Solari', 'Locket-of-the-Iron-Solari', 'Lockett']\n",
      "Lord Dominiks Regards: [\"Lord Dominik's\", 'Lord Dominiks', 'Lord-Dominiks', \"Lord-Dominik's\", 'LDR', 'L.D.R.', 'L.D.R', 'Lord-Dominiks-Regards']\n",
      "Ludens Companion: [\"Luden's\", 'Ludens', 'Ludens-Companion', \"Luden's-Companion\"]\n",
      "Malignance: ['Malignance', 'Malignace', 'Mallignance', 'Mallignace']\n",
      "Manamune: ['Manamune', 'Mana-Mune', 'Mannamune', 'Manamun']\n",
      "Maw: ['Maw', \"Maw's\", 'Maws', 'Malmortius']\n",
      "Mejais Soulstealer: [\"Mejai's\", 'Mejais', 'Mejas', 'Meja', 'Soulstealer', 'Mejais-Soulstealer', \"Mejai's-Soulstealer\"]\n",
      "Mercurial Scimitar: ['Scimitar', 'Mercurial-Scimitar', 'Mercurial']\n",
      "Mikaels Blessing: ['Mikaels', \"Mikael's\", 'Mikaels-Blessing', \"Mikael's-Blessing\"]\n",
      "Moonstone Renewer: ['Moonstone', 'Moonstone-Renewer', 'Moon-Stone']\n",
      "Morellonomicon: ['Morellonomicon', 'Morello', 'Morellos', \"Morello's\", 'Morelonomicon', 'Morellonomikon', 'Morelonomikon']\n",
      "Mortal Reminder: ['Mortal Reminder', 'Mortal-Reminder']\n",
      "Muramana: ['Muramana', 'Muramanma', 'Muramanma', 'Mura-Mana']\n",
      "Nashors Tooth: [\"Nashor's-Tooth\", 'Nashors', \"Nashor's\", 'Nashors-Tooth']\n",
      "Navori Flickerblade: ['Flickerblade', 'Flicker-Blade', 'Navori-Flickerblade']\n",
      "Opportunity: ['Opportunity', 'Oportunity']\n",
      "Overlords Bloodmail: ['Bloodmail', 'Blood-Mail', \"Overlord's\", 'Overlords']\n",
      "Phantom Dancer: ['Phantom Dancer', 'Phantom-Dancer']\n",
      "Profane Hydra: ['Profane', 'Profane-Hydra', 'Proffane']\n",
      "Rabadons Deathcap: [\"Rabadon's\", 'Rabadons', 'Rabbadons', 'Rabaddons', 'Deathcap', 'Death-Cap', 'Rabadons-Deathcap']\n",
      "Randuin's Omen: [\"Randuin's\", 'Randuins', 'Randuin', \"Randuin's-Omen\", 'Randuins-Omen']\n",
      "Rapid Firecannon: ['Firecannon', 'Rapid-Firecannon', 'Fire-Cannon']\n",
      "Ravenous Hydra: ['Ravenous', 'Ravenous-Hydra']\n",
      "Redemption: ['Redemption', 'Redemtion']\n",
      "Riftmaker: ['Riftmaker', 'Rift-Maker', 'Rift Maker']\n",
      "Rod of Ages: ['Rod of Ages', 'Rod-of-Ages', 'Ages Rod']\n",
      "Runaans Hurricane: [\"Runaan's\", 'Runaans', 'Runaans-Hurricane', \"Runaan's-Hurricane\", \"Runan's\", 'Runans']\n",
      "Rylais Crystal Scepter: [\"Rylai's\", 'Rylais', \"Raylai's\", 'Raylais', 'Crystal Scepter', 'Crystal-Scepter']\n",
      "Seraphs Embrace: [\"Seraph's-Embrace\", \"Seraph's\", 'Seraphs', 'Seraphs-Embrace']\n",
      "Serpents Fang: [\"Serpent's\", 'Serpents', 'Serpents-Fang', \"Serpent's-Fang\"]\n",
      "Seryldas Grudge: [\"Serylda's-Grudge\", 'Seryldas-Grudge', 'Seryldas', \"Serylda's\", 'Sereldas', \"Serelda's\"]\n",
      "Shadowflame: ['Shadowflame', 'Shadow-Flame', 'Shaddowflame', 'Shaddow-Flame']\n",
      "Shurelyas Battlesong: [\"Shurelya's\", 'Shurelyas', 'Shurelyas-Battlesong', \"Shurelya's-Battlesong\"]\n",
      "Solstice Sleigh: ['Solstice Sleigh', 'Solstice-Sleigh', 'Sol Sleigh', 'Sol-Sleigh', 'Sol. Sleigh']\n",
      "Spear of Shojin: ['Shojin', 'Spear-Shojin', 'Shojin-Spear', 'Spear-of-Shojin']\n",
      "Sunfire Aegis: ['Sunfire', 'Aegis', 'Sunfire-Aegis', 'Sun-Fire']\n",
      "Spirit Visage: ['Spirit-Visage', 'Visage']\n",
      "Staff of Flowing Water: ['Staff of Flowing Water', 'Flowing Water Staff', 'Flowing-Water-Staff']\n",
      "Statikk Shiv: ['Statikk', 'Shiv', 'Statik Shiv', 'Statik-Shiv', 'Statikk-Shiv']\n",
      "Steraks Gage: [\"Sterak's\", 'Steraks', 'Steracks', \"Sterak's-Gage\", 'Steraks-Gage']\n",
      "Stormsurge: ['Stormsurge', 'Storm-Surge', 'Storm Surge']\n",
      "Stridebreaker: ['Stridebreaker', 'Stride-Breaker', 'Stride Breaker', 'Stridebraker', 'Stride Braker']\n",
      "Sundered Sky: ['Sundered', 'Sundered-Sky']\n",
      "Terminus: ['Terminus', 'Termimnus', 'Termminus', 'Therminus']\n",
      "The Collector: ['Collector', 'Colector', 'Collecktor']\n",
      "Thornmail: ['Thornmail', 'Thorn-Mail', 'Thornmaile', 'Thorn Mail', 'Thornmale']\n",
      "Titanic Hydra: ['Titanic', 'Titanic-Hydra', 'Titanick']\n",
      "Trailblazer: ['Trailblazer', 'Trailblaizer', 'Trail-Blazer', 'Trail Blazer']\n",
      "Trinity Force: ['Trinity-Force', 'Trinity', 'Triforce', 'Tri-Force', 'Tri Force']\n",
      "Umbral Glaive: ['Umbral-Glaive', 'Umbral']\n",
      "Unending Despair: ['Unending Despair', 'Unending-Despair', 'Un-ending Despair']\n",
      "Vigilant Wardstone: ['Wardstone', 'Ward-Stone', 'Vigilant-Wardstone']\n",
      "Void Staff: ['Void Staff', 'Void Staf', 'Void-Staff', 'Void-Staf']\n",
      "Voltaic Cyclosword: ['Voltaic', 'Cyclosword', 'Cyclo-Sword', 'Voltaic-Cyclosword']\n",
      "Warmogs Armor: [\"Warmog's\", 'Warmogs', 'Warmongs', \"Warmong's\", 'Warmogs-Armor']\n",
      "Winters Approach: [\"Winter's Approach\", 'Winters Approach', 'Winters-Approach', 'Winter Approach', 'Winters Aproach', \"Winter's-Approach\", 'Winters-Approach']\n",
      "Wits End: ['Wits End', \"Wit's End\", 'Wits-End', \"Wit's-End\", 'Witsend', 'Witts End', \"Witt's End\"]\n",
      "Youmuus Ghostblade: [\"Youmuu's\", 'Youmuus', 'Youmus', \"Youmu's\", 'Yomus', \"Yomu's\", 'Ghostblade', 'Ghost-Blade']\n",
      "Yun Tal Wildarrows: ['Yun Tal', 'Yun-Tal', 'Wildarrows', 'Wildarrow', 'Wild-Arrows', 'Wild-Arrow']\n",
      "Zaz'Zak's Realmspike: [\"Zaz'Zak's\", \"Zak's\", 'Zaks', \"Zack's\", 'Zacks', 'Realmspike', 'Realm-Spike']\n",
      "Zhonya's Hourglass: [\"Zhonya's\", 'Zhonyas', 'Zhonya', \"Zonya's\", 'Zonyas', 'Zonya', 'Hourglass', 'Hour-Glass', 'Hourglas']\n"
     ]
    }
   ],
   "source": [
    "with open('item_dictionary.json', 'r') as file:\n",
    "    item_dict = json.load(file)\n",
    "\n",
    "for key, value in item_dict.items():\n",
    "    print(str(key) + ': ' + str(value))\n"
   ]
  },
  {
   "cell_type": "code",
   "execution_count": 210,
   "metadata": {},
   "outputs": [
    {
     "data": {
      "text/plain": [
       "916"
      ]
     },
     "execution_count": 210,
     "metadata": {},
     "output_type": "execute_result"
    }
   ],
   "source": [
    "# Total Number of Aliases\n",
    "concatenated_list = [item for sublist in item_dict.values() for item in sublist]\n",
    "len(concatenated_list)"
   ]
  }
 ],
 "metadata": {
  "kernelspec": {
   "display_name": "Python 3",
   "language": "python",
   "name": "python3"
  },
  "language_info": {
   "codemirror_mode": {
    "name": "ipython",
    "version": 3
   },
   "file_extension": ".py",
   "mimetype": "text/x-python",
   "name": "python",
   "nbconvert_exporter": "python",
   "pygments_lexer": "ipython3",
   "version": "3.10.11"
  }
 },
 "nbformat": 4,
 "nbformat_minor": 2
}
