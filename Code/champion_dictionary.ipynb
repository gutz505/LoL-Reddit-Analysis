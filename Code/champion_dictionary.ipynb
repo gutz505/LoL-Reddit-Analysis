{
 "cells": [
  {
   "cell_type": "markdown",
   "metadata": {},
   "source": [
    "## League of Legends Champion Dictionary\n",
    "Gulliver Wutz\n",
    "\n",
    "Source: https://leagueoflegends.fandom.com/wiki/List_of_champions"
   ]
  },
  {
   "cell_type": "code",
   "execution_count": 1,
   "metadata": {},
   "outputs": [],
   "source": [
    "# Creating Dictionary\n",
    "import json\n",
    "champion_dict = {}"
   ]
  },
  {
   "cell_type": "code",
   "execution_count": 2,
   "metadata": {},
   "outputs": [],
   "source": [
    "# Aatrox\n",
    "champion_dict[\"Aatrox\"] = ['World Ender', 'Darkin Blade', 'Aatrox', 'Red Sword Guy', 'Atrox', 'Aatrocks', 'Aatroxx', 'Atroxes', 'Aatrokz', 'Aatroks', 'Atroxx']"
   ]
  },
  {
   "cell_type": "code",
   "execution_count": 3,
   "metadata": {},
   "outputs": [],
   "source": [
    "# Ahri\n",
    "champion_dict[\"Ahri\"] = ['Ahri', 'Nine-Tailed Fox', 'Foxy Lady', 'Fox Girl', 'Fox Champion', 'Nine Tailed Fox', 'Ari', 'Ahrri', 'Ary', 'Kitsune', 'Fox Spirit']"
   ]
  },
  {
   "cell_type": "code",
   "execution_count": 4,
   "metadata": {},
   "outputs": [],
   "source": [
    "# Akali\n",
    "champion_dict[\"Akali\"] = ['Akali', 'Akalli', 'Akkali', 'Akaly', 'Ackali', 'Fist of Shadow']"
   ]
  },
  {
   "cell_type": "code",
   "execution_count": 5,
   "metadata": {},
   "outputs": [],
   "source": [
    "# Akshan\n",
    "champion_dict[\"Akshan\"] = ['Akshan', 'Rogue Sentinel', 'Ak', 'Ashkan', 'Ackshan', 'Aksha', 'Ashka', 'Akschan', 'Ackschan']"
   ]
  },
  {
   "cell_type": "code",
   "execution_count": 6,
   "metadata": {},
   "outputs": [],
   "source": [
    "# Alistar\n",
    "champion_dict[\"Alistar\"] = ['Alistar', 'Ali', 'Alis', 'Minotaur', 'Allistar', 'Alistair', 'Allistair', 'Alli']"
   ]
  },
  {
   "cell_type": "code",
   "execution_count": 7,
   "metadata": {},
   "outputs": [],
   "source": [
    "# Amumu\n",
    "champion_dict[\"Amumu\"] = ['Amumu', 'Mumu', 'Amum', 'Ammumu', 'Amummu', 'Ammummu', 'Amu', 'Mummy', 'Sad Mummy']"
   ]
  },
  {
   "cell_type": "code",
   "execution_count": 8,
   "metadata": {},
   "outputs": [],
   "source": [
    "# Anivia\n",
    "champion_dict[\"Anivia\"] = ['Anivia', 'Cryophoenix', 'Phoenix', 'Annivia', 'Aniwia', 'Aniv', 'Anniv', 'Nivia']"
   ]
  },
  {
   "cell_type": "code",
   "execution_count": 9,
   "metadata": {},
   "outputs": [],
   "source": [
    "# Annie\n",
    "champion_dict[\"Annie\"] = ['Dark Child', 'Annie', 'Anni', 'Anny', 'Anniie', 'Anniy', 'Anniiee', 'Ani', 'Anne', 'Aniie', 'Anney', 'Annii']"
   ]
  },
  {
   "cell_type": "code",
   "execution_count": 10,
   "metadata": {},
   "outputs": [],
   "source": [
    "# Aphelios\n",
    "champion_dict[\"Aphelios\"] = ['Weapon of the Faithful', 'Aphelios', 'Aphel', 'Phelios', 'Afelios', 'Aphelius', 'Apheli', 'Phelius']"
   ]
  },
  {
   "cell_type": "code",
   "execution_count": 11,
   "metadata": {},
   "outputs": [],
   "source": [
    "# Ashe\n",
    "champion_dict[\"Ashe\"] = ['Ashe', 'Frost Archer', 'Ash', 'Asch', 'Ashee']"
   ]
  },
  {
   "cell_type": "code",
   "execution_count": 12,
   "metadata": {},
   "outputs": [],
   "source": [
    "# Aurelion Sol\n",
    "champion_dict[\"Aurelion\"] = ['Aurelion', 'Sol', 'Star Forger', 'Aurel', 'Aurellion', 'Aurrelion']"
   ]
  },
  {
   "cell_type": "code",
   "execution_count": 13,
   "metadata": {},
   "outputs": [],
   "source": [
    "# Azir\n",
    "champion_dict[\"Azir\"] = ['Azir', 'Emperor of Sands', 'Emperor of the Sands', 'Asir', 'Azzir', 'Azire']"
   ]
  },
  {
   "cell_type": "code",
   "execution_count": 14,
   "metadata": {},
   "outputs": [],
   "source": [
    "# Bard\n",
    "champion_dict[\"Bard\"] = ['Bard', 'Wandering Caretaker', 'Bart', 'Barde']"
   ]
  },
  {
   "cell_type": "code",
   "execution_count": 15,
   "metadata": {},
   "outputs": [],
   "source": [
    "# Bel'Veth\n",
    "champion_dict[\"Belveth\"] = [\"Bel'Veth\", 'Belveth', 'Void Empress', 'Empress of the Void', 'Belvef', 'Bellveth', \"Bell'Veth\", 'Belleveth', 'Bel Veth', 'Belle Veth', 'Bel Veht']"
   ]
  },
  {
   "cell_type": "code",
   "execution_count": 16,
   "metadata": {},
   "outputs": [],
   "source": [
    "# Blitzcrank\n",
    "champion_dict[\"Blitzcrank\"] = ['Blitzcrank', 'Steam Golem', 'Great Steam Golem', 'Blitz', 'Crank', 'Blizcrank', \"Blitzkrank\"]"
   ]
  },
  {
   "cell_type": "code",
   "execution_count": 17,
   "metadata": {},
   "outputs": [],
   "source": [
    "# Brand\n",
    "champion_dict[\"Brand\"] = ['Brand', 'Burning Vengeance', 'Barnd', 'Brande', 'Brend', 'Brandt']"
   ]
  },
  {
   "cell_type": "code",
   "execution_count": 18,
   "metadata": {},
   "outputs": [],
   "source": [
    "# Braum\n",
    "champion_dict[\"Braum\"] = ['Braum', 'Heart of the Freljord', 'Heart of Freljord', 'Braun', 'Browm', 'Braumm']"
   ]
  },
  {
   "cell_type": "code",
   "execution_count": 19,
   "metadata": {},
   "outputs": [],
   "source": [
    "# Briar\n",
    "champion_dict[\"Briar\"] = ['Briar', 'Restrained Hunger', 'Briair', 'Breiar', 'Breear', 'Bria']"
   ]
  },
  {
   "cell_type": "code",
   "execution_count": 20,
   "metadata": {},
   "outputs": [],
   "source": [
    "# Caitlyn\n",
    "champion_dict[\"Caitlyn\"] = ['Caitlyn', 'Sheriff of Piltover', 'Kaitlyn', 'Cait', 'Kait', 'Catelyn', 'Katelym', 'Caitlin', 'Kaitlin', 'Caitlynn', 'Catelynn']"
   ]
  },
  {
   "cell_type": "code",
   "execution_count": 21,
   "metadata": {},
   "outputs": [],
   "source": [
    "# Camille\n",
    "champion_dict[\"Camille\"] = ['Camille', 'Steel Shadow', 'Steel Shaddow', 'Camile', 'Camil', 'Camill', 'Kamil', 'Kamille', 'Camilie', 'Camill']"
   ]
  },
  {
   "cell_type": "code",
   "execution_count": 22,
   "metadata": {},
   "outputs": [],
   "source": [
    "# Cassiopeia\n",
    "champion_dict[\"Cassiopeia\"] = ['Cassiopeia', 'Serpents Embrace', \"Serpent's Embrace\", 'Serpent Embrace', 'Cass', 'Cassio', 'Casio', 'Casiopeia']"
   ]
  },
  {
   "cell_type": "code",
   "execution_count": 23,
   "metadata": {},
   "outputs": [],
   "source": [
    "# Cho'Gath\n",
    "champion_dict[\"Chogath\"] = ['Chogath', \"Cho'Gath\", \"Terror of the Void\", 'Terror of Void', 'Cho', 'Chogat']"
   ]
  },
  {
   "cell_type": "code",
   "execution_count": 24,
   "metadata": {},
   "outputs": [],
   "source": [
    "# Corki\n",
    "champion_dict[\"Corki\"] = ['Corki', \"Daring Bombardier\", \"Korki\", 'Corky', 'Korcky', 'Corcki']"
   ]
  },
  {
   "cell_type": "code",
   "execution_count": 25,
   "metadata": {},
   "outputs": [],
   "source": [
    "# Darius\n",
    "champion_dict[\"Darius\"] = ['Darius', 'Hand of Noxus', 'Darios', 'Darrius']"
   ]
  },
  {
   "cell_type": "code",
   "execution_count": 26,
   "metadata": {},
   "outputs": [],
   "source": [
    "# Diana\n",
    "champion_dict[\"Diana\"] = ['Diana', 'Scorn of the Moon', 'Scorn of Moon', 'Dianna']"
   ]
  },
  {
   "cell_type": "code",
   "execution_count": 27,
   "metadata": {},
   "outputs": [],
   "source": [
    "# Dr. Mundo\n",
    "champion_dict[\"Mundo\"] = ['Mundo', 'Dr. Mundo', 'Madman of Zaun', 'Munndo', 'Doktor Mundo', 'Doctor Mundo']"
   ]
  },
  {
   "cell_type": "code",
   "execution_count": 28,
   "metadata": {},
   "outputs": [],
   "source": [
    "# Draven\n",
    "champion_dict[\"Draven\"] = ['Draven', 'Glorious Executioner', 'Dravenn', 'Dreven', 'Drawen']"
   ]
  },
  {
   "cell_type": "code",
   "execution_count": 29,
   "metadata": {},
   "outputs": [],
   "source": [
    "# Ekko\n",
    "champion_dict[\"Ekko\"] = ['Ekko', 'Boy who shattered Time', 'Echo', 'Ecko', 'Ecco']"
   ]
  },
  {
   "cell_type": "code",
   "execution_count": 30,
   "metadata": {},
   "outputs": [],
   "source": [
    "# Elise\n",
    "champion_dict[\"Elise\"] = ['Elise', 'Spider Queen', 'Elize', 'Elis', 'Eliz']"
   ]
  },
  {
   "cell_type": "code",
   "execution_count": 31,
   "metadata": {},
   "outputs": [],
   "source": [
    "# Evelynn\n",
    "champion_dict[\"Evelynn\"] = ['Evelynn', \"Agony's Embrace\", 'Agonys Embrace', 'Agony Embrace', 'Evelin', 'Eve', 'Evelinn', 'Evelyn', 'Evlyn', 'Evlin']"
   ]
  },
  {
   "cell_type": "code",
   "execution_count": 32,
   "metadata": {},
   "outputs": [],
   "source": [
    "# Ezreal\n",
    "champion_dict[\"Ezreal\"] = ['Ezreal', \"Prodigal Explorer\", 'Ezrael', 'Esreal', 'Esrael']"
   ]
  },
  {
   "cell_type": "code",
   "execution_count": 33,
   "metadata": {},
   "outputs": [],
   "source": [
    "# Fiddlesticks\n",
    "champion_dict[\"Fiddlesticks\"] = ['Fiddlesticks', \"Ancient Fear\", 'Fiddle', 'Fiddel', 'Fiddlestix', 'Fiddelsticks', 'Fiddelstix', 'Fiddle Stix', 'Fiddle Sticks']"
   ]
  },
  {
   "cell_type": "code",
   "execution_count": 34,
   "metadata": {},
   "outputs": [],
   "source": [
    "# Fiora\n",
    "champion_dict[\"Fiora\"] = ['Fiora', \"Grand Duelist\", 'Fiona', 'Fjora']"
   ]
  },
  {
   "cell_type": "code",
   "execution_count": 35,
   "metadata": {},
   "outputs": [],
   "source": [
    "# Fizz\n",
    "champion_dict[\"Fizz\"] = ['Fizz', \"Tidal Trickster\", 'Fiz', 'Fitz']"
   ]
  },
  {
   "cell_type": "code",
   "execution_count": 36,
   "metadata": {},
   "outputs": [],
   "source": [
    "# Galio\n",
    "champion_dict[\"Galio\"] = ['Galio', 'Colossus' 'Gallio', 'Galios', 'Gallios']"
   ]
  },
  {
   "cell_type": "code",
   "execution_count": 37,
   "metadata": {},
   "outputs": [],
   "source": [
    "# Gangplank\n",
    "champion_dict[\"Gangplank\"] = ['Gangplank', 'Saltwater Scourge' 'Gankplank', 'Gangplanck', 'Plank', 'Gankplanck']"
   ]
  },
  {
   "cell_type": "code",
   "execution_count": 38,
   "metadata": {},
   "outputs": [],
   "source": [
    "# Garen\n",
    "champion_dict[\"Garen\"] = ['Garen', 'Might of Demacia' 'Garren', 'Geren', 'Gerren']"
   ]
  },
  {
   "cell_type": "code",
   "execution_count": 39,
   "metadata": {},
   "outputs": [],
   "source": [
    "# Gnar\n",
    "champion_dict[\"Gnar\"] = ['Gnar', 'Missing Link' 'Gnarr']"
   ]
  },
  {
   "cell_type": "code",
   "execution_count": 40,
   "metadata": {},
   "outputs": [],
   "source": [
    "# Gragas\n",
    "champion_dict[\"Gragas\"] = ['Gragas', 'Rabble Rouser' 'Graggas', 'Grags']"
   ]
  },
  {
   "cell_type": "code",
   "execution_count": 41,
   "metadata": {},
   "outputs": [],
   "source": [
    "# Graves\n",
    "champion_dict[\"Graves\"] = ['Graves', 'The Outlaw' 'Gravse']"
   ]
  },
  {
   "cell_type": "code",
   "execution_count": 42,
   "metadata": {},
   "outputs": [],
   "source": [
    "# Gwen\n",
    "champion_dict[\"Gwen\"] = ['Gwen', 'Hallowed Seamstress' 'Gven', 'Gewn', 'Gvenn', 'Gwenn']"
   ]
  },
  {
   "cell_type": "code",
   "execution_count": 43,
   "metadata": {},
   "outputs": [],
   "source": [
    "# Hecarim\n",
    "champion_dict[\"Hecarim\"] = ['Hecarim', 'Shadow of War', 'Shaddow of War', 'Hekarim', 'Heckarim', 'Heccarim', 'Hecarimm', 'Heckarimm', 'Heccarimm', 'Heca', 'Hecca', 'Hecka']"
   ]
  },
  {
   "cell_type": "code",
   "execution_count": 44,
   "metadata": {},
   "outputs": [],
   "source": [
    "# Heimerdinger\n",
    "champion_dict[\"Heimerdinger\"] = ['Heimerdinger', 'Revered Inventor', 'Heimer', 'Dinger', 'Heymerdinger', 'Heymer', 'Heimeding', 'Heimeding', 'Heimdinge', 'Heimdinger']"
   ]
  },
  {
   "cell_type": "code",
   "execution_count": 45,
   "metadata": {},
   "outputs": [],
   "source": [
    "# Hwei\n",
    "champion_dict[\"Hwei\"] = ['Hwei', 'The Visionary', 'Huwei', 'Huwai', 'Hwai', 'Hway', 'Hwey', 'Huway', 'Huwey']"
   ]
  },
  {
   "cell_type": "code",
   "execution_count": 46,
   "metadata": {},
   "outputs": [],
   "source": [
    "# Illaoi\n",
    "champion_dict[\"Illaoi\"] = ['Illaoi', 'Kraken Priestess', 'Ilaoi', 'Lllaoi', 'Iloi', 'Illoi', 'Ilao', 'Illao', 'Illoy', 'Illaoy']"
   ]
  },
  {
   "cell_type": "code",
   "execution_count": 47,
   "metadata": {},
   "outputs": [],
   "source": [
    "# Irelia\n",
    "champion_dict[\"Irelia\"] = ['Irelia', 'Blade Dancer', 'Irrelia', 'Irellia', 'Ireli', 'Relia', 'Rellia']"
   ]
  },
  {
   "cell_type": "code",
   "execution_count": 48,
   "metadata": {},
   "outputs": [],
   "source": [
    "# Ivern\n",
    "champion_dict[\"Ivern\"] = ['Ivern', 'Green Father', 'Iver', 'Iveren', 'Ivern', 'Ivrn', 'Daisy']"
   ]
  },
  {
   "cell_type": "code",
   "execution_count": 49,
   "metadata": {},
   "outputs": [],
   "source": [
    "# Janna\n",
    "champion_dict[\"Janna\"] = ['Janna', \"Storm's Fury\", 'Storms Fury', 'Jana', 'Jannna', 'Jenna', 'Jena']"
   ]
  },
  {
   "cell_type": "code",
   "execution_count": 50,
   "metadata": {},
   "outputs": [],
   "source": [
    "# Jarvan IV\n",
    "champion_dict[\"Jarvan\"] = ['Jarvan IV', 'Jarvan', 'J4', 'Exemplar of Demacia', 'Jarva', 'Jarven', 'Jarvan the Fourth', 'Jarvan 4th', 'Jarvan the 4th']"
   ]
  },
  {
   "cell_type": "code",
   "execution_count": 51,
   "metadata": {},
   "outputs": [],
   "source": [
    "# Jax\n",
    "champion_dict[\"Jax\"] = ['Jax', 'Grandmaster at Arms', 'Jaks']"
   ]
  },
  {
   "cell_type": "code",
   "execution_count": 52,
   "metadata": {},
   "outputs": [],
   "source": [
    "# Jhin\n",
    "champion_dict[\"Jhin\"] = ['Jhin', 'The Virtuoso', 'Jin', 'Jhinn', 'Gin', 'Djin', 'Djhin']"
   ]
  },
  {
   "cell_type": "code",
   "execution_count": 53,
   "metadata": {},
   "outputs": [],
   "source": [
    "# Jinx\n",
    "champion_dict[\"Jinx\"] = ['Jinx', 'Loose Cannon', 'Jhinx', 'Jinks', 'Powder']"
   ]
  },
  {
   "cell_type": "code",
   "execution_count": 54,
   "metadata": {},
   "outputs": [],
   "source": [
    "# K'Sante\n",
    "champion_dict[\"Ksante\"] = ['Ksante', \"K'Sante\", 'Pride of Nazumah', 'Xante', 'Kssante']"
   ]
  },
  {
   "cell_type": "code",
   "execution_count": 55,
   "metadata": {},
   "outputs": [],
   "source": [
    "# Kai'Sa\n",
    "champion_dict[\"Kaisa\"] = ['Kaisa', \"Kai'Sa\", 'Daughter of the Void', 'Kais', 'Kaiza']"
   ]
  },
  {
   "cell_type": "code",
   "execution_count": 56,
   "metadata": {},
   "outputs": [],
   "source": [
    "# Kalista\n",
    "champion_dict[\"Kalista\"] = ['Kalista', 'Spear of Vengeance', 'Kallista', 'Calista', 'Callista']"
   ]
  },
  {
   "cell_type": "code",
   "execution_count": 57,
   "metadata": {},
   "outputs": [],
   "source": [
    "# Karma\n",
    "champion_dict[\"Karma\"] = ['Karma', 'Enlightened One', 'Karm', 'Kharma', 'Karmma']"
   ]
  },
  {
   "cell_type": "code",
   "execution_count": 58,
   "metadata": {},
   "outputs": [],
   "source": [
    "# Karthus\n",
    "champion_dict[\"Karthus\"] = ['Karthus', 'Deathsinger', 'Kartus', 'Kattus', 'Katus', 'Khartus', 'Kharthus', 'Karth']"
   ]
  },
  {
   "cell_type": "code",
   "execution_count": 59,
   "metadata": {},
   "outputs": [],
   "source": [
    "# Kassadin\n",
    "champion_dict[\"Kassadin\"] = ['Kassadin', 'Void Walker', 'Kassa', 'Kass', 'Kasadin', 'Kassadinn', 'Kasadin', 'Cassadin', 'Casadin']"
   ]
  },
  {
   "cell_type": "code",
   "execution_count": 60,
   "metadata": {},
   "outputs": [],
   "source": [
    "# Katarina\n",
    "champion_dict[\"Katarina\"] = ['Katarina', 'Sinister Blade', 'Kata', 'Katta', 'Catarina', 'Katerina', 'Caterina']"
   ]
  },
  {
   "cell_type": "code",
   "execution_count": 61,
   "metadata": {},
   "outputs": [],
   "source": [
    "# Kayle\n",
    "champion_dict[\"Kayle\"] = ['Kayle', 'The Righteous', 'Kayl', 'Kayel', 'Cayle']"
   ]
  },
  {
   "cell_type": "code",
   "execution_count": 62,
   "metadata": {},
   "outputs": [],
   "source": [
    "# Kayn\n",
    "champion_dict[\"Kayn\"] = ['Kayn', 'Shadow Reaper', 'Shaddow Reaper', 'Kain', 'Cayn', 'Cane', 'Shaddow Assasin', 'Rhaast', 'Rhast', 'SA']"
   ]
  },
  {
   "cell_type": "code",
   "execution_count": 63,
   "metadata": {},
   "outputs": [],
   "source": [
    "# Kennen\n",
    "champion_dict[\"Kennen\"] = ['Kennen', 'Heart of the Tempest', 'Cennen', 'Kenen', 'Cenen']"
   ]
  },
  {
   "cell_type": "code",
   "execution_count": 64,
   "metadata": {},
   "outputs": [],
   "source": [
    "# Kha'Zix\n",
    "champion_dict[\"Khazix\"] = ['Khazix', \"Kha'Zix\", 'Voidreaver', 'Khaz', 'Khaziks', 'Khazicks', \"Kha'Zics\", \"Kha'Zicks\", \"Kha'Ziks\"]"
   ]
  },
  {
   "cell_type": "code",
   "execution_count": 65,
   "metadata": {},
   "outputs": [],
   "source": [
    "# Kindred\n",
    "champion_dict[\"Kindred\"] = ['Kindred', 'Eternal Hunters', 'Kinndred', 'Kindret', 'Kinderd', 'Kindered']"
   ]
  },
  {
   "cell_type": "code",
   "execution_count": 66,
   "metadata": {},
   "outputs": [],
   "source": [
    "# Kled\n",
    "champion_dict[\"Kled\"] = ['Kled', 'Cantankerous Cavalier', 'Cled', 'Kkled', 'Kledd', 'Cledd']"
   ]
  },
  {
   "cell_type": "code",
   "execution_count": 67,
   "metadata": {},
   "outputs": [],
   "source": [
    "# Kog'Maw\n",
    "champion_dict[\"Kogmaw\"] = ['Kogmaw', \"Kog'Maw\", 'Mouth of the Abyss', 'Kog', 'Cogmaw', 'Coggmaw', 'Koggmaw', 'Kogg']"
   ]
  },
  {
   "cell_type": "code",
   "execution_count": 68,
   "metadata": {},
   "outputs": [],
   "source": [
    "# LeBlanc\n",
    "champion_dict[\"Leblanc\"] = ['LeBlanc', \"Le Blanc\", 'The Deceiver', 'LeBlanche', 'LeBlance', 'Le Blance']"
   ]
  },
  {
   "cell_type": "code",
   "execution_count": 69,
   "metadata": {},
   "outputs": [],
   "source": [
    "# Lee Sin\n",
    "champion_dict[\"Leesin\"] = ['Lee Sin', 'Leesin', 'Blind Monk', 'Lee', 'Lesin']"
   ]
  },
  {
   "cell_type": "code",
   "execution_count": 70,
   "metadata": {},
   "outputs": [],
   "source": [
    "# Leona\n",
    "champion_dict[\"Leona\"] = ['Leona', 'Radiant Dawn', 'Leonna', 'Liona', 'Leone']"
   ]
  },
  {
   "cell_type": "code",
   "execution_count": 71,
   "metadata": {},
   "outputs": [],
   "source": [
    "# Lillia\n",
    "champion_dict[\"Lillia\"] = ['Lillia', 'Bashful Bloom', 'Lilia', 'Llilia', 'Llillia']"
   ]
  },
  {
   "cell_type": "code",
   "execution_count": 72,
   "metadata": {},
   "outputs": [],
   "source": [
    "# Lissandra\n",
    "champion_dict[\"Lissandra\"] = ['Lissandra', 'Ice Witch', 'Lisandra', 'Liss', 'Lizandra']"
   ]
  },
  {
   "cell_type": "code",
   "execution_count": 73,
   "metadata": {},
   "outputs": [],
   "source": [
    "# Lucian\n",
    "champion_dict[\"Lucian\"] = ['Lucian', 'The Purifier', 'Lusian']"
   ]
  },
  {
   "cell_type": "code",
   "execution_count": 74,
   "metadata": {},
   "outputs": [],
   "source": [
    "# Lulu\n",
    "champion_dict[\"Lulu\"] = ['Lulu', 'Fae Sorceress', 'Lullu', 'Looloo', 'Llullu']"
   ]
  },
  {
   "cell_type": "code",
   "execution_count": 75,
   "metadata": {},
   "outputs": [],
   "source": [
    "# Lux\n",
    "champion_dict[\"Lux\"] = ['Lux', 'Lady of Luminosity', 'Luxe', 'Luxs']"
   ]
  },
  {
   "cell_type": "code",
   "execution_count": 76,
   "metadata": {},
   "outputs": [],
   "source": [
    "# Malphite\n",
    "champion_dict[\"Malphite\"] = ['Malphite', 'Shard of the Monolith', 'Malph', 'Melphite', 'Malfight', 'Malfite', 'Malphight', 'Malphit', 'Melphit']"
   ]
  },
  {
   "cell_type": "code",
   "execution_count": 77,
   "metadata": {},
   "outputs": [],
   "source": [
    "# Malzahar\n",
    "champion_dict[\"Malzahar\"] = ['Malzahar', 'Prophet of the Void', 'Malz', 'Malzar', 'Malzhar', 'Maltzahar', 'Maltz']"
   ]
  },
  {
   "cell_type": "code",
   "execution_count": 78,
   "metadata": {},
   "outputs": [],
   "source": [
    "# Maokai\n",
    "champion_dict[\"Maokai\"] = ['Maokai', 'Twisted Treant', 'Makai', 'Mokai', 'Maokay', 'Mahokai', 'Mahokay']"
   ]
  },
  {
   "cell_type": "code",
   "execution_count": 79,
   "metadata": {},
   "outputs": [],
   "source": [
    "# Master Yi\n",
    "champion_dict[\"Master Yi\"] = ['Master Yi', 'Yi', 'Wuju Bladesman', 'Master Ji']"
   ]
  },
  {
   "cell_type": "code",
   "execution_count": 80,
   "metadata": {},
   "outputs": [],
   "source": [
    "# Milio\n",
    "champion_dict[\"Milio\"] = ['Milio', 'Gentle Flame', 'Millio']"
   ]
  },
  {
   "cell_type": "code",
   "execution_count": 81,
   "metadata": {},
   "outputs": [],
   "source": [
    "# Miss Fortune\n",
    "champion_dict[\"Miss Fortune\"] = ['Miss Fortune', 'The Bounty Hunter', 'MF', 'Mis Fortunte', 'Ms. Fortunte', 'Ms Fortune']"
   ]
  },
  {
   "cell_type": "code",
   "execution_count": 82,
   "metadata": {},
   "outputs": [],
   "source": [
    "# Mordekaiser\n",
    "champion_dict[\"Mordekaiser\"] = ['Mordekaiser', 'Iron Revenant', 'Mord', 'Morde', 'Mordekaizer', 'Mordekeiser', 'Mortekaiser']"
   ]
  },
  {
   "cell_type": "code",
   "execution_count": 83,
   "metadata": {},
   "outputs": [],
   "source": [
    "# Morgana\n",
    "champion_dict[\"Morgana\"] = ['Morgana', 'The Fallen', 'Morg', 'Morganna', 'Mourgana']"
   ]
  },
  {
   "cell_type": "code",
   "execution_count": 84,
   "metadata": {},
   "outputs": [],
   "source": [
    "# Naafiri\n",
    "champion_dict[\"Naafiri\"] = ['Naafiri', 'Hound of a Hundred', 'Nafiri', 'Naffiri', 'Nafiiri', 'Nafirii', 'Naaffiri', 'Naafiiri']"
   ]
  },
  {
   "cell_type": "code",
   "execution_count": 85,
   "metadata": {},
   "outputs": [],
   "source": [
    "# Nami\n",
    "champion_dict[\"Nami\"] = ['Nami', 'The Tidecaller', 'Nammi', 'Naami', 'Nahmi']"
   ]
  },
  {
   "cell_type": "code",
   "execution_count": 86,
   "metadata": {},
   "outputs": [],
   "source": [
    "# Nasus\n",
    "champion_dict[\"Nasus\"] = ['Nasus', 'Curator of the Sands', 'Nassus', 'Nazus']"
   ]
  },
  {
   "cell_type": "code",
   "execution_count": 87,
   "metadata": {},
   "outputs": [],
   "source": [
    "# Nautilus\n",
    "champion_dict[\"Nautilus\"] = ['Nautilus', 'Titan of the Depths', 'Naut', 'Nauti', 'Nauttilus', 'Nautillus']"
   ]
  },
  {
   "cell_type": "code",
   "execution_count": 88,
   "metadata": {},
   "outputs": [],
   "source": [
    "# Neeko\n",
    "champion_dict[\"Neeko\"] = ['Neeko', 'Curious Chameleon', 'Neekoo', 'Nekoo', 'Neeco']"
   ]
  },
  {
   "cell_type": "code",
   "execution_count": 89,
   "metadata": {},
   "outputs": [],
   "source": [
    "# Nidalee\n",
    "champion_dict[\"Nidalee\"] = ['Nidalee', 'Bestial Huntress', 'Niddalee', 'Niddale', 'Nidallee', 'Nidalle', 'Needalee']"
   ]
  },
  {
   "cell_type": "code",
   "execution_count": 90,
   "metadata": {},
   "outputs": [],
   "source": [
    "# Nilah\n",
    "champion_dict[\"Nilah\"] = ['Nilah', 'Joy Unbound', 'Nila', 'Nilha', 'Nillah', 'Neela', 'Neelah']"
   ]
  },
  {
   "cell_type": "code",
   "execution_count": 91,
   "metadata": {},
   "outputs": [],
   "source": [
    "# Nocturne\n",
    "champion_dict[\"Nocturne\"] = ['Nocturne', 'Eternal Nightmare', 'Noct', 'Noc', 'Nocturn', 'Nokturn', 'Nokturne']"
   ]
  },
  {
   "cell_type": "code",
   "execution_count": 92,
   "metadata": {},
   "outputs": [],
   "source": [
    "# Nunu & Willump\n",
    "champion_dict[\"Nunu\"] = ['Nunu', 'Nunu & Willump', 'Willump', 'Nunu & Wilump', 'Wilump', 'Boy and his Yeti', 'Boy and Yeti', 'Nunnu', 'Nunu and Willump', 'Nunu and Wilump']"
   ]
  },
  {
   "cell_type": "code",
   "execution_count": 93,
   "metadata": {},
   "outputs": [],
   "source": [
    "# Olaf\n",
    "champion_dict[\"Olaf\"] = ['Olaf', 'The Berserker', 'Ollaf', 'Olaff']"
   ]
  },
  {
   "cell_type": "code",
   "execution_count": 94,
   "metadata": {},
   "outputs": [],
   "source": [
    "# Orianna\n",
    "champion_dict[\"Orianna\"] = ['Orianna', 'Lady of Clockwork', 'Oriana', 'Orianne', 'Oriane', 'Ori']"
   ]
  },
  {
   "cell_type": "code",
   "execution_count": 95,
   "metadata": {},
   "outputs": [],
   "source": [
    "# Ornn\n",
    "champion_dict[\"Ornn\"] = ['Ornn', 'Fire below the Mountain', 'Orn']"
   ]
  },
  {
   "cell_type": "code",
   "execution_count": 96,
   "metadata": {},
   "outputs": [],
   "source": [
    "# Pantheon\n",
    "champion_dict[\"Pantheon\"] = ['Pantheon', 'Unbreakable Spear', 'Panthenon', 'Pant', 'Panth', 'Pantenon', 'Panteon']"
   ]
  },
  {
   "cell_type": "code",
   "execution_count": 97,
   "metadata": {},
   "outputs": [],
   "source": [
    "# Poppy\n",
    "champion_dict[\"Poppy\"] = ['Poppy', 'Keeper of the Hammer', 'Popy', 'Poppey', 'Poppeye', 'Popeye']"
   ]
  },
  {
   "cell_type": "code",
   "execution_count": 98,
   "metadata": {},
   "outputs": [],
   "source": [
    "# Pyke\n",
    "champion_dict[\"Pyke\"] = ['Pyke', 'Bloodharbor Ripper', 'Pike', 'Pyk']"
   ]
  },
  {
   "cell_type": "code",
   "execution_count": 99,
   "metadata": {},
   "outputs": [],
   "source": [
    "# Qiyana\n",
    "champion_dict[\"Qiyana\"] = ['Qiyana', 'Empress of the Elements', 'Quiyana', 'Qujana', 'Qijana']"
   ]
  },
  {
   "cell_type": "code",
   "execution_count": 100,
   "metadata": {},
   "outputs": [],
   "source": [
    "# Quinn\n",
    "champion_dict[\"Quinn\"] = ['Quinn', \"Demacia's Wings\", 'Demacias Wings', 'Quin', 'Qinn', 'Qin']"
   ]
  },
  {
   "cell_type": "code",
   "execution_count": 101,
   "metadata": {},
   "outputs": [],
   "source": [
    "# Rakan\n",
    "champion_dict[\"Rakan\"] = ['Rakan', 'The Charmer', 'Rakkan', 'Rackan']"
   ]
  },
  {
   "cell_type": "code",
   "execution_count": 102,
   "metadata": {},
   "outputs": [],
   "source": [
    "# Rammus\n",
    "champion_dict[\"Rammus\"] = ['Rammus', 'The Armordillo', 'Ramus']"
   ]
  },
  {
   "cell_type": "code",
   "execution_count": 103,
   "metadata": {},
   "outputs": [],
   "source": [
    "# Rek'Sai\n",
    "champion_dict[\"Reksai\"] = ['Reksai', \"Rek'Sai\", 'Void Burrower', 'Rexai', 'Recksai', \"Rec'Sai\"]"
   ]
  },
  {
   "cell_type": "code",
   "execution_count": 104,
   "metadata": {},
   "outputs": [],
   "source": [
    "# Rell\n",
    "champion_dict[\"Rell\"] = ['Rell', 'Iron Maiden', 'Rel']"
   ]
  },
  {
   "cell_type": "code",
   "execution_count": 105,
   "metadata": {},
   "outputs": [],
   "source": [
    "# Renata Glasc\n",
    "champion_dict[\"Renata Glasc\"] = ['Renata', 'Glasc', 'Chem-Baroness', 'Chem Baroness', 'Rennata', 'Renate', 'Rennate', 'Glask']"
   ]
  },
  {
   "cell_type": "code",
   "execution_count": 106,
   "metadata": {},
   "outputs": [],
   "source": [
    "# Renekton\n",
    "champion_dict[\"Renekton\"] = ['Renekton', 'Butcher of the Sands', 'Renek', 'Reneck', 'Reneckton', 'Renekten', 'Rennekton', 'Renneckton']"
   ]
  },
  {
   "cell_type": "code",
   "execution_count": 107,
   "metadata": {},
   "outputs": [],
   "source": [
    "# Rengar\n",
    "champion_dict[\"Rengar\"] = ['Rengar', 'Pridestalker', 'Renngar', 'Renger']"
   ]
  },
  {
   "cell_type": "code",
   "execution_count": 108,
   "metadata": {},
   "outputs": [],
   "source": [
    "# Riven\n",
    "champion_dict[\"Riven\"] = ['Riven', 'The Exile', 'Riwen', 'Rivven']"
   ]
  },
  {
   "cell_type": "code",
   "execution_count": 109,
   "metadata": {},
   "outputs": [],
   "source": [
    "# Rumble\n",
    "champion_dict[\"Rumble\"] = ['Rumble', 'Mechanized Menace', 'Rummble', 'Rumbl']"
   ]
  },
  {
   "cell_type": "code",
   "execution_count": 110,
   "metadata": {},
   "outputs": [],
   "source": [
    "# Ryze\n",
    "champion_dict[\"Ryze\"] = ['Ryze', 'Rune Mage', 'Rhyze', 'Ryzhe', 'Rize']"
   ]
  },
  {
   "cell_type": "code",
   "execution_count": 111,
   "metadata": {},
   "outputs": [],
   "source": [
    "# Samira\n",
    "champion_dict[\"Samira\"] = ['Samira', 'Desert Rose', 'Semira', 'Sammira', 'Semmira']"
   ]
  },
  {
   "cell_type": "code",
   "execution_count": 112,
   "metadata": {},
   "outputs": [],
   "source": [
    "# Sejuani\n",
    "champion_dict[\"Sejuani\"] = ['Sejuani', 'Fury of the North', 'Seguani', 'Sechuani', 'Sejuanni', 'Seyuani']"
   ]
  },
  {
   "cell_type": "code",
   "execution_count": 113,
   "metadata": {},
   "outputs": [],
   "source": [
    "# Senna\n",
    "champion_dict[\"Senna\"] = ['Senna', 'The Redeemer', 'Sena']"
   ]
  },
  {
   "cell_type": "code",
   "execution_count": 114,
   "metadata": {},
   "outputs": [],
   "source": [
    "# Seraphine\n",
    "champion_dict[\"Seraphine\"] = ['Seraphine', 'Starry-Eyed Songstress', 'Starryeyed Songstress', 'Sera', 'Seraph', 'Serafine', 'Zeraphine']"
   ]
  },
  {
   "cell_type": "code",
   "execution_count": 115,
   "metadata": {},
   "outputs": [],
   "source": [
    "# Sett\n",
    "champion_dict[\"Sett\"] = ['Sett', 'The Boss', 'Zett']"
   ]
  },
  {
   "cell_type": "code",
   "execution_count": 116,
   "metadata": {},
   "outputs": [],
   "source": [
    "# Shaco\n",
    "champion_dict[\"Shaco\"] = ['Shaco', 'Demon Jester', 'Shacco', 'Shacko', 'Shakko', 'Shako']"
   ]
  },
  {
   "cell_type": "code",
   "execution_count": 117,
   "metadata": {},
   "outputs": [],
   "source": [
    "# Shen\n",
    "champion_dict[\"Shen\"] = ['Shen', 'Eye of Twilight', 'Chen']"
   ]
  },
  {
   "cell_type": "code",
   "execution_count": 118,
   "metadata": {},
   "outputs": [],
   "source": [
    "# Shyvana\n",
    "champion_dict[\"Shyvana\"] = ['Shyvana', 'Half-Dragon', 'Half Dragon', 'Shyv', 'Shivana', 'Shyvanna', 'Shivanna', 'Shiv', 'Shyva']"
   ]
  },
  {
   "cell_type": "code",
   "execution_count": 119,
   "metadata": {},
   "outputs": [],
   "source": [
    "# Singed\n",
    "champion_dict[\"Singed\"] = ['Singed', 'Mad Chemist', 'Singe', 'Singd', 'Singde']"
   ]
  },
  {
   "cell_type": "code",
   "execution_count": 120,
   "metadata": {},
   "outputs": [],
   "source": [
    "# Sion\n",
    "champion_dict[\"Sion\"] = ['Sion', 'Undead Juggernaut', 'Sione']"
   ]
  },
  {
   "cell_type": "code",
   "execution_count": 121,
   "metadata": {},
   "outputs": [],
   "source": [
    "# Sivir\n",
    "champion_dict[\"Sivir\"] = ['Sivir', 'Battle Mistress', 'Siwir']"
   ]
  },
  {
   "cell_type": "code",
   "execution_count": 122,
   "metadata": {},
   "outputs": [],
   "source": [
    "# Skarner\n",
    "champion_dict[\"Skarner\"] = ['Skarner', 'Primordial Sovereign', 'Scarner', 'Sckarner', 'Skarn']"
   ]
  },
  {
   "cell_type": "code",
   "execution_count": 123,
   "metadata": {},
   "outputs": [],
   "source": [
    "# Smolder\n",
    "champion_dict[\"Smolder\"] = ['Smolder', 'Fiery Fledgling', 'Smoulder', 'Smollder']"
   ]
  },
  {
   "cell_type": "code",
   "execution_count": 124,
   "metadata": {},
   "outputs": [],
   "source": [
    "# Sona\n",
    "champion_dict[\"Sona\"] = ['Sona', 'Maven of the Strings']"
   ]
  },
  {
   "cell_type": "code",
   "execution_count": 125,
   "metadata": {},
   "outputs": [],
   "source": [
    "# Soraka\n",
    "champion_dict[\"Soraka\"] = ['Soraka', 'The Starchild', 'Sorraka', 'Zoraka', 'Zorraka', 'Sorakka', 'Sorrakka', 'Sora']"
   ]
  },
  {
   "cell_type": "code",
   "execution_count": 126,
   "metadata": {},
   "outputs": [],
   "source": [
    "# Swain\n",
    "champion_dict[\"Swain\"] = ['Swain', 'Noxian Grand General', 'Swein', 'Swayn', 'Svain']"
   ]
  },
  {
   "cell_type": "code",
   "execution_count": 127,
   "metadata": {},
   "outputs": [],
   "source": [
    "# Sylas\n",
    "champion_dict[\"Sylas\"] = ['Sylas', 'The Unshackled', 'Silas']"
   ]
  },
  {
   "cell_type": "code",
   "execution_count": 128,
   "metadata": {},
   "outputs": [],
   "source": [
    "# Syndra\n",
    "champion_dict[\"Syndra\"] = ['Syndra', 'Dark Sovereign', 'Sindra', 'Synndra']"
   ]
  },
  {
   "cell_type": "code",
   "execution_count": 129,
   "metadata": {},
   "outputs": [],
   "source": [
    "# Tahm Kench\n",
    "champion_dict[\"Tahm Kench\"] = ['Tahm', 'Kench', 'River King', 'Tam', 'Khench']"
   ]
  },
  {
   "cell_type": "code",
   "execution_count": 130,
   "metadata": {},
   "outputs": [],
   "source": [
    "# Taliyah\n",
    "champion_dict[\"Taliyah\"] = ['Taliyah', 'Stoneweaver', 'Talliyah', 'Taliya', 'Thaliya', 'Thalliya', 'Talliya']"
   ]
  },
  {
   "cell_type": "code",
   "execution_count": 131,
   "metadata": {},
   "outputs": [],
   "source": [
    "# Talon\n",
    "champion_dict[\"Talon\"] = ['Talon', \"Blade's Shadow\", 'Blades Shadow', 'Tallon']"
   ]
  },
  {
   "cell_type": "code",
   "execution_count": 132,
   "metadata": {},
   "outputs": [],
   "source": [
    "# Taric\n",
    "champion_dict[\"Taric\"] = ['Taric', 'Shield of Valoran', 'Tarric', 'Tarick', 'Tarrick']"
   ]
  },
  {
   "cell_type": "code",
   "execution_count": 133,
   "metadata": {},
   "outputs": [],
   "source": [
    "# Teemo\n",
    "champion_dict[\"Teemo\"] = ['Teemo', 'Swift Scout', 'Temo', 'Teemoo', 'Temoo', 'Timo']"
   ]
  },
  {
   "cell_type": "code",
   "execution_count": 134,
   "metadata": {},
   "outputs": [],
   "source": [
    "# Thresh\n",
    "champion_dict[\"Thresh\"] = ['Thresh', 'Chain Warden', 'Tresh', 'Thres', 'Threshe']"
   ]
  },
  {
   "cell_type": "code",
   "execution_count": 135,
   "metadata": {},
   "outputs": [],
   "source": [
    "# Tristana\n",
    "champion_dict[\"Tristana\"] = ['Tristana', 'Yordle Gunner', 'Trist', 'Tris', 'Tristanna']"
   ]
  },
  {
   "cell_type": "code",
   "execution_count": 136,
   "metadata": {},
   "outputs": [],
   "source": [
    "# Trundle\n",
    "champion_dict[\"Trundle\"] = ['Trundle', 'Troll King', 'Trunndle', 'Trundl']"
   ]
  },
  {
   "cell_type": "code",
   "execution_count": 137,
   "metadata": {},
   "outputs": [],
   "source": [
    "# Tryndamere\n",
    "champion_dict[\"Tryndamere\"] = ['Tryndamere', 'Barbarian King', 'Trynd', 'Tryndamer', 'Trynda', 'Trindamere', 'Trindamer']"
   ]
  },
  {
   "cell_type": "code",
   "execution_count": 138,
   "metadata": {},
   "outputs": [],
   "source": [
    "# Twisted Fate\n",
    "champion_dict[\"Twisted Fate\"] = ['Twisted Fate', 'Card Master', 'Twisted', 'TF']"
   ]
  },
  {
   "cell_type": "code",
   "execution_count": 139,
   "metadata": {},
   "outputs": [],
   "source": [
    "# Twitch\n",
    "champion_dict[\"Twitch\"] = ['Twitch', 'Plague Rat', 'Twich']"
   ]
  },
  {
   "cell_type": "code",
   "execution_count": 140,
   "metadata": {},
   "outputs": [],
   "source": [
    "# Udyr\n",
    "champion_dict[\"Udyr\"] = ['Udyr', 'Spirit Walker', 'Udir']"
   ]
  },
  {
   "cell_type": "code",
   "execution_count": 141,
   "metadata": {},
   "outputs": [],
   "source": [
    "# Urgot\n",
    "champion_dict[\"Urgot\"] = ['Urgot', 'Dreadnought', 'Urgott', 'Urgod']"
   ]
  },
  {
   "cell_type": "code",
   "execution_count": 142,
   "metadata": {},
   "outputs": [],
   "source": [
    "# Varus\n",
    "champion_dict[\"Varus\"] = ['Varus', 'Arrow of Retribution', 'Varrus']"
   ]
  },
  {
   "cell_type": "code",
   "execution_count": 143,
   "metadata": {},
   "outputs": [],
   "source": [
    "# Vayne\n",
    "champion_dict[\"Vayne\"] = ['Vayne', 'Night Hunter', 'Vayn', 'Wayne']"
   ]
  },
  {
   "cell_type": "code",
   "execution_count": 144,
   "metadata": {},
   "outputs": [],
   "source": [
    "# Veigar\n",
    "champion_dict[\"Veigar\"] = ['Veigar', 'Tiny Master of Evil', 'Veighar', 'Viegar']"
   ]
  },
  {
   "cell_type": "code",
   "execution_count": 145,
   "metadata": {},
   "outputs": [],
   "source": [
    "# Vel'Koz\n",
    "champion_dict[\"Velkoz\"] = ['Velkoz', \"Vel'Koz\", 'Eye of the Void', 'Vellkoz', 'Velkos']"
   ]
  },
  {
   "cell_type": "code",
   "execution_count": 146,
   "metadata": {},
   "outputs": [],
   "source": [
    "# Vex\n",
    "champion_dict[\"Vex\"] = ['Vex', 'Gloomist']"
   ]
  },
  {
   "cell_type": "code",
   "execution_count": 147,
   "metadata": {},
   "outputs": [],
   "source": [
    "# Vi\n",
    "champion_dict[\"Vi\"] = ['Vi', 'Piltover Enforcer']"
   ]
  },
  {
   "cell_type": "code",
   "execution_count": 148,
   "metadata": {},
   "outputs": [],
   "source": [
    "# Viego\n",
    "champion_dict[\"Viego\"] = ['Viego', 'Ruined King', 'Veigo']"
   ]
  },
  {
   "cell_type": "code",
   "execution_count": 149,
   "metadata": {},
   "outputs": [],
   "source": [
    "# Viktor\n",
    "champion_dict[\"Viktor\"] = ['Viktor', 'Machine Herald', 'Vik', 'Victor']"
   ]
  },
  {
   "cell_type": "code",
   "execution_count": 150,
   "metadata": {},
   "outputs": [],
   "source": [
    "# Vladimir\n",
    "champion_dict[\"Vladimir\"] = ['Vladimir', 'Crimson Reaper', 'Vlad', 'Vladd', 'Vladdimir', 'Vladimmir']"
   ]
  },
  {
   "cell_type": "code",
   "execution_count": 151,
   "metadata": {},
   "outputs": [],
   "source": [
    "# Volibear\n",
    "champion_dict[\"Volibear\"] = ['Volibear', 'Relentless Storm', 'Voli', 'Vollibear', 'Volibaer']"
   ]
  },
  {
   "cell_type": "code",
   "execution_count": 152,
   "metadata": {},
   "outputs": [],
   "source": [
    "# Warwick\n",
    "champion_dict[\"Warwick\"] = ['Warwick', 'Uncaged Wrath of Zaun', 'Warwik', 'Warwic', 'Worwick']"
   ]
  },
  {
   "cell_type": "code",
   "execution_count": 153,
   "metadata": {},
   "outputs": [],
   "source": [
    "# Wukong\n",
    "champion_dict[\"Wukong\"] = ['Wukong', 'Monkey King', 'Wuking', 'Kong']"
   ]
  },
  {
   "cell_type": "code",
   "execution_count": 154,
   "metadata": {},
   "outputs": [],
   "source": [
    "# Xayah\n",
    "champion_dict[\"Xayah\"] = ['Xayah', 'The Rebel', 'Xajah', 'Xaya', 'Xaja', 'Xaiah']"
   ]
  },
  {
   "cell_type": "code",
   "execution_count": 155,
   "metadata": {},
   "outputs": [],
   "source": [
    "# Xerath\n",
    "champion_dict[\"Xerath\"] = ['Xerath', 'Magus Ascendant', 'Xerat']"
   ]
  },
  {
   "cell_type": "code",
   "execution_count": 156,
   "metadata": {},
   "outputs": [],
   "source": [
    "# Xin Zhao\n",
    "champion_dict[\"Xin Zhao\"] = ['Xin', 'Zhao', 'Seneschal of Demacia', 'Zao']"
   ]
  },
  {
   "cell_type": "code",
   "execution_count": 157,
   "metadata": {},
   "outputs": [],
   "source": [
    "# Yasuo\n",
    "champion_dict[\"Yasuo\"] = ['Yasuo', 'The Unforgiven', 'Yas', 'Yass']"
   ]
  },
  {
   "cell_type": "code",
   "execution_count": 158,
   "metadata": {},
   "outputs": [],
   "source": [
    "# Yone\n",
    "champion_dict[\"Yone\"] = ['Yone', 'The Unforgotten', 'Yon', 'Ione']"
   ]
  },
  {
   "cell_type": "code",
   "execution_count": 159,
   "metadata": {},
   "outputs": [],
   "source": [
    "# Yorick\n",
    "champion_dict[\"Yorick\"] = ['Yorick', 'Shepherd of Souls', 'Yorrick', 'Yoric', 'Yorik', 'Yorikk', 'Jorick']"
   ]
  },
  {
   "cell_type": "code",
   "execution_count": 160,
   "metadata": {},
   "outputs": [],
   "source": [
    "# Yuumi\n",
    "champion_dict[\"Yuumi\"] = ['Yuumi', 'Magical Cat', 'Yumi', 'Yummi', 'Yuummi', 'Yumii', 'Yuumii', 'Yumie']"
   ]
  },
  {
   "cell_type": "code",
   "execution_count": 161,
   "metadata": {},
   "outputs": [],
   "source": [
    "# Zac\n",
    "champion_dict[\"Zac\"] = ['Zac', 'Secret Weapon', 'Zack']"
   ]
  },
  {
   "cell_type": "code",
   "execution_count": 162,
   "metadata": {},
   "outputs": [],
   "source": [
    "# Zed\n",
    "champion_dict[\"Zed\"] = ['Zed', 'Master of Shadows', 'Zedd']"
   ]
  },
  {
   "cell_type": "code",
   "execution_count": 163,
   "metadata": {},
   "outputs": [],
   "source": [
    "# Zeri\n",
    "champion_dict[\"Zeri\"] = ['Zeri', 'Spark of Zaun', 'Zerri']"
   ]
  },
  {
   "cell_type": "code",
   "execution_count": 164,
   "metadata": {},
   "outputs": [],
   "source": [
    "# Ziggs\n",
    "champion_dict[\"Ziggs\"] = ['Ziggs', 'Hexplosives Expert', 'Zigs']"
   ]
  },
  {
   "cell_type": "code",
   "execution_count": 165,
   "metadata": {},
   "outputs": [],
   "source": [
    "# Zilean\n",
    "champion_dict[\"Zilean\"] = ['Zilean', 'Chronokeeper', 'Zilliean', 'Zilian', 'Zillean']"
   ]
  },
  {
   "cell_type": "code",
   "execution_count": 166,
   "metadata": {},
   "outputs": [],
   "source": [
    "# Zoe\n",
    "champion_dict[\"Zoe\"] = ['Zoe', 'Aspect of Twilight', 'Zoee', 'Zoey']"
   ]
  },
  {
   "cell_type": "code",
   "execution_count": 167,
   "metadata": {},
   "outputs": [],
   "source": [
    "# Zyra\n",
    "champion_dict[\"Zyra\"] = ['Zyra', 'Rise of the Thorns', 'Zira', 'Zhyra', 'Zyrah']"
   ]
  },
  {
   "cell_type": "code",
   "execution_count": 168,
   "metadata": {},
   "outputs": [],
   "source": [
    "# Export Dictionary\n",
    "with open('champion_dictionary.json', 'w') as file:\n",
    "    json.dump(champion_dict, file)"
   ]
  },
  {
   "cell_type": "markdown",
   "metadata": {},
   "source": [
    "### Inspect Dictionary"
   ]
  },
  {
   "cell_type": "code",
   "execution_count": 169,
   "metadata": {},
   "outputs": [
    {
     "name": "stdout",
     "output_type": "stream",
     "text": [
      "Aatrox: ['World Ender', 'Darkin Blade', 'Aatrox', 'Red Sword Guy', 'Atrox', 'Aatrocks', 'Aatroxx', 'Atroxes', 'Aatrokz', 'Aatroks', 'Atroxx']\n",
      "Ahri: ['Ahri', 'Nine-Tailed Fox', 'Foxy Lady', 'Fox Girl', 'Fox Champion', 'Nine Tailed Fox', 'Ari', 'Ahrri', 'Ary', 'Kitsune', 'Fox Spirit']\n",
      "Akali: ['Akali', 'Akalli', 'Akkali', 'Akaly', 'Ackali', 'Fist of Shadow']\n",
      "Akshan: ['Akshan', 'Rogue Sentinel', 'Ak', 'Ashkan', 'Ackshan', 'Aksha', 'Ashka', 'Akschan', 'Ackschan']\n",
      "Alistar: ['Alistar', 'Ali', 'Alis', 'Minotaur', 'Allistar', 'Alistair', 'Allistair', 'Alli']\n",
      "Amumu: ['Amumu', 'Mumu', 'Amum', 'Ammumu', 'Amummu', 'Ammummu', 'Amu', 'Mummy', 'Sad Mummy']\n",
      "Anivia: ['Anivia', 'Cryophoenix', 'Phoenix', 'Annivia', 'Aniwia', 'Aniv', 'Anniv', 'Nivia']\n",
      "Annie: ['Dark Child', 'Annie', 'Anni', 'Anny', 'Anniie', 'Anniy', 'Anniiee', 'Ani', 'Anne', 'Aniie', 'Anney', 'Annii']\n",
      "Aphelios: ['Weapon of the Faithful', 'Aphelios', 'Aphel', 'Phelios', 'Afelios', 'Aphelius', 'Apheli', 'Phelius']\n",
      "Ashe: ['Ashe', 'Frost Archer', 'Ash', 'Asch', 'Ashee']\n",
      "Aurelion: ['Aurelion', 'Sol', 'Star Forger', 'Aurel', 'Aurellion', 'Aurrelion']\n",
      "Azir: ['Azir', 'Emperor of Sands', 'Emperor of the Sands', 'Asir', 'Azzir', 'Azire']\n",
      "Bard: ['Bard', 'Wandering Caretaker', 'Bart', 'Barde']\n",
      "Belveth: [\"Bel'Veth\", 'Belveth', 'Void Empress', 'Empress of the Void', 'Belvef', 'Bellveth', \"Bell'Veth\", 'Belleveth', 'Bel Veth', 'Belle Veth', 'Bel Veht']\n",
      "Blitzcrank: ['Blitzcrank', 'Steam Golem', 'Great Steam Golem', 'Blitz', 'Crank', 'Blizcrank', 'Blitzkrank']\n",
      "Brand: ['Brand', 'Burning Vengeance', 'Barnd', 'Brande', 'Brend', 'Brandt']\n",
      "Braum: ['Braum', 'Heart of the Freljord', 'Heart of Freljord', 'Braun', 'Browm', 'Braumm']\n",
      "Briar: ['Briar', 'Restrained Hunger', 'Briair', 'Breiar', 'Breear', 'Bria']\n",
      "Caitlyn: ['Caitlyn', 'Sheriff of Piltover', 'Kaitlyn', 'Cait', 'Kait', 'Catelyn', 'Katelym', 'Caitlin', 'Kaitlin', 'Caitlynn', 'Catelynn']\n",
      "Camille: ['Camille', 'Steel Shadow', 'Steel Shaddow', 'Camile', 'Camil', 'Camill', 'Kamil', 'Kamille', 'Camilie', 'Camill']\n",
      "Cassiopeia: ['Cassiopeia', 'Serpents Embrace', \"Serpent's Embrace\", 'Serpent Embrace', 'Cass', 'Cassio', 'Casio', 'Casiopeia']\n",
      "Chogath: ['Chogath', \"Cho'Gath\", 'Terror of the Void', 'Terror of Void', 'Cho', 'Chogat']\n",
      "Corki: ['Corki', 'Daring Bombardier', 'Korki', 'Corky', 'Korcky', 'Corcki']\n",
      "Darius: ['Darius', 'Hand of Noxus', 'Darios', 'Darrius']\n",
      "Diana: ['Diana', 'Scorn of the Moon', 'Scorn of Moon', 'Dianna']\n",
      "Mundo: ['Mundo', 'Dr. Mundo', 'Madman of Zaun', 'Munndo', 'Doktor Mundo', 'Doctor Mundo']\n",
      "Draven: ['Draven', 'Glorious Executioner', 'Dravenn', 'Dreven', 'Drawen']\n",
      "Ekko: ['Ekko', 'Boy who shattered Time', 'Echo', 'Ecko', 'Ecco']\n",
      "Elise: ['Elise', 'Spider Queen', 'Elize', 'Elis', 'Eliz']\n",
      "Evelynn: ['Evelynn', \"Agony's Embrace\", 'Agonys Embrace', 'Agony Embrace', 'Evelin', 'Eve', 'Evelinn', 'Evelyn', 'Evlyn', 'Evlin']\n",
      "Ezreal: ['Ezreal', 'Prodigal Explorer', 'Ezrael', 'Esreal', 'Esrael']\n",
      "Fiddlesticks: ['Fiddlesticks', 'Ancient Fear', 'Fiddle', 'Fiddel', 'Fiddlestix', 'Fiddelsticks', 'Fiddelstix', 'Fiddle Stix', 'Fiddle Sticks']\n",
      "Fiora: ['Fiora', 'Grand Duelist', 'Fiona', 'Fjora']\n",
      "Fizz: ['Fizz', 'Tidal Trickster', 'Fiz', 'Fitz']\n",
      "Galio: ['Galio', 'ColossusGallio', 'Galios', 'Gallios']\n",
      "Gangplank: ['Gangplank', 'Saltwater ScourgeGankplank', 'Gangplanck', 'Plank', 'Gankplanck']\n",
      "Garen: ['Garen', 'Might of DemaciaGarren', 'Geren', 'Gerren']\n",
      "Gnar: ['Gnar', 'Missing LinkGnarr']\n",
      "Gragas: ['Gragas', 'Rabble RouserGraggas', 'Grags']\n",
      "Graves: ['Graves', 'The OutlawGravse']\n",
      "Gwen: ['Gwen', 'Hallowed SeamstressGven', 'Gewn', 'Gvenn', 'Gwenn']\n",
      "Hecarim: ['Hecarim', 'Shadow of War', 'Shaddow of War', 'Hekarim', 'Heckarim', 'Heccarim', 'Hecarimm', 'Heckarimm', 'Heccarimm', 'Heca', 'Hecca', 'Hecka']\n",
      "Heimerdinger: ['Heimerdinger', 'Revered Inventor', 'Heimer', 'Dinger', 'Heymerdinger', 'Heymer', 'Heimeding', 'Heimeding', 'Heimdinge', 'Heimdinger']\n",
      "Hwei: ['Hwei', 'The Visionary', 'Huwei', 'Huwai', 'Hwai', 'Hway', 'Hwey', 'Huway', 'Huwey']\n",
      "Illaoi: ['Illaoi', 'Kraken Priestess', 'Ilaoi', 'Lllaoi', 'Iloi', 'Illoi', 'Ilao', 'Illao', 'Illoy', 'Illaoy']\n",
      "Irelia: ['Irelia', 'Blade Dancer', 'Irrelia', 'Irellia', 'Ireli', 'Relia', 'Rellia']\n",
      "Ivern: ['Ivern', 'Green Father', 'Iver', 'Iveren', 'Ivern', 'Ivrn', 'Daisy']\n",
      "Janna: ['Janna', \"Storm's Fury\", 'Storms Fury', 'Jana', 'Jannna', 'Jenna', 'Jena']\n",
      "Jarvan: ['Jarvan IV', 'Jarvan', 'J4', 'Exemplar of Demacia', 'Jarva', 'Jarven', 'Jarvan the Fourth', 'Jarvan 4th', 'Jarvan the 4th']\n",
      "Jax: ['Jax', 'Grandmaster at Arms', 'Jaks']\n",
      "Jhin: ['Jhin', 'The Virtuoso', 'Jin', 'Jhinn', 'Gin', 'Djin', 'Djhin']\n",
      "Jinx: ['Jinx', 'Loose Cannon', 'Jhinx', 'Jinks', 'Powder']\n",
      "Ksante: ['Ksante', \"K'Sante\", 'Pride of Nazumah', 'Xante', 'Kssante']\n",
      "Kaisa: ['Kaisa', \"Kai'Sa\", 'Daughter of the Void', 'Kais', 'Kaiza']\n",
      "Kalista: ['Kalista', 'Spear of Vengeance', 'Kallista', 'Calista', 'Callista']\n",
      "Karma: ['Karma', 'Enlightened One', 'Karm', 'Kharma', 'Karmma']\n",
      "Karthus: ['Karthus', 'Deathsinger', 'Kartus', 'Kattus', 'Katus', 'Khartus', 'Kharthus', 'Karth']\n",
      "Kassadin: ['Kassadin', 'Void Walker', 'Kassa', 'Kass', 'Kasadin', 'Kassadinn', 'Kasadin', 'Cassadin', 'Casadin']\n",
      "Katarina: ['Katarina', 'Sinister Blade', 'Kata', 'Katta', 'Catarina', 'Katerina', 'Caterina']\n",
      "Kayle: ['Kayle', 'The Righteous', 'Kayl', 'Kayel', 'Cayle']\n",
      "Kayn: ['Kayn', 'Shadow Reaper', 'Shaddow Reaper', 'Kain', 'Cayn', 'Cane', 'Shaddow Assasin', 'Rhaast', 'Rhast', 'SA']\n",
      "Kennen: ['Kennen', 'Heart of the Tempest', 'Cennen', 'Kenen', 'Cenen']\n",
      "Khazix: ['Khazix', \"Kha'Zix\", 'Voidreaver', 'Khaz', 'Khaziks', 'Khazicks', \"Kha'Zics\", \"Kha'Zicks\", \"Kha'Ziks\"]\n",
      "Kindred: ['Kindred', 'Eternal Hunters', 'Kinndred', 'Kindret', 'Kinderd', 'Kindered']\n",
      "Kled: ['Kled', 'Cantankerous Cavalier', 'Cled', 'Kkled', 'Kledd', 'Cledd']\n",
      "Kogmaw: ['Kogmaw', \"Kog'Maw\", 'Mouth of the Abyss', 'Kog', 'Cogmaw', 'Coggmaw', 'Koggmaw', 'Kogg']\n",
      "Leblanc: ['LeBlanc', 'Le Blanc', 'The Deceiver', 'LeBlanche', 'LeBlance', 'Le Blance']\n",
      "Leesin: ['Lee Sin', 'Leesin', 'Blind Monk', 'Lee', 'Lesin']\n",
      "Leona: ['Leona', 'Radiant Dawn', 'Leonna', 'Liona', 'Leone']\n",
      "Lillia: ['Lillia', 'Bashful Bloom', 'Lilia', 'Llilia', 'Llillia']\n",
      "Lissandra: ['Lissandra', 'Ice Witch', 'Lisandra', 'Liss', 'Lizandra']\n",
      "Lucian: ['Lucian', 'The Purifier', 'Lusian']\n",
      "Lulu: ['Lulu', 'Fae Sorceress', 'Lullu', 'Looloo', 'Llullu']\n",
      "Lux: ['Lux', 'Lady of Luminosity', 'Luxe', 'Luxs']\n",
      "Malphite: ['Malphite', 'Shard of the Monolith', 'Malph', 'Melphite', 'Malfight', 'Malfite', 'Malphight', 'Malphit', 'Melphit']\n",
      "Malzahar: ['Malzahar', 'Prophet of the Void', 'Malz', 'Malzar', 'Malzhar', 'Maltzahar', 'Maltz']\n",
      "Maokai: ['Maokai', 'Twisted Treant', 'Makai', 'Mokai', 'Maokay', 'Mahokai', 'Mahokay']\n",
      "Master Yi: ['Master Yi', 'Yi', 'Wuju Bladesman', 'Master Ji']\n",
      "Milio: ['Milio', 'Gentle Flame', 'Millio']\n",
      "Miss Fortune: ['Miss Fortune', 'The Bounty Hunter', 'MF', 'Mis Fortunte', 'Ms. Fortunte', 'Ms Fortune']\n",
      "Mordekaiser: ['Mordekaiser', 'Iron Revenant', 'Mord', 'Morde', 'Mordekaizer', 'Mordekeiser', 'Mortekaiser']\n",
      "Morgana: ['Morgana', 'The Fallen', 'Morg', 'Morganna', 'Mourgana']\n",
      "Naafiri: ['Naafiri', 'Hound of a Hundred', 'Nafiri', 'Naffiri', 'Nafiiri', 'Nafirii', 'Naaffiri', 'Naafiiri']\n",
      "Nami: ['Nami', 'The Tidecaller', 'Nammi', 'Naami', 'Nahmi']\n",
      "Nasus: ['Nasus', 'Curator of the Sands', 'Nassus', 'Nazus']\n",
      "Nautilus: ['Nautilus', 'Titan of the Depths', 'Naut', 'Nauti', 'Nauttilus', 'Nautillus']\n",
      "Neeko: ['Neeko', 'Curious Chameleon', 'Neekoo', 'Nekoo', 'Neeco']\n",
      "Nidalee: ['Nidalee', 'Bestial Huntress', 'Niddalee', 'Niddale', 'Nidallee', 'Nidalle', 'Needalee']\n",
      "Nilah: ['Nilah', 'Joy Unbound', 'Nila', 'Nilha', 'Nillah', 'Neela', 'Neelah']\n",
      "Nocturne: ['Nocturne', 'Eternal Nightmare', 'Noct', 'Noc', 'Nocturn', 'Nokturn', 'Nokturne']\n",
      "Nunu: ['Nunu', 'Nunu & Willump', 'Willump', 'Nunu & Wilump', 'Wilump', 'Boy and his Yeti', 'Boy and Yeti', 'Nunnu', 'Nunu and Willump', 'Nunu and Wilump']\n",
      "Olaf: ['Olaf', 'The Berserker', 'Ollaf', 'Olaff']\n",
      "Orianna: ['Orianna', 'Lady of Clockwork', 'Oriana', 'Orianne', 'Oriane', 'Ori']\n",
      "Ornn: ['Ornn', 'Fire below the Mountain', 'Orn']\n",
      "Pantheon: ['Pantheon', 'Unbreakable Spear', 'Panthenon', 'Pant', 'Panth', 'Pantenon', 'Panteon']\n",
      "Poppy: ['Poppy', 'Keeper of the Hammer', 'Popy', 'Poppey', 'Poppeye', 'Popeye']\n",
      "Pyke: ['Pyke', 'Bloodharbor Ripper', 'Pike', 'Pyk']\n",
      "Qiyana: ['Qiyana', 'Empress of the Elements', 'Quiyana', 'Qujana', 'Qijana']\n",
      "Quinn: ['Quinn', \"Demacia's Wings\", 'Demacias Wings', 'Quin', 'Qinn', 'Qin']\n",
      "Rakan: ['Rakan', 'The Charmer', 'Rakkan', 'Rackan']\n",
      "Rammus: ['Rammus', 'The Armordillo', 'Ramus']\n",
      "Reksai: ['Reksai', \"Rek'Sai\", 'Void Burrower', 'Rexai', 'Recksai', \"Rec'Sai\"]\n",
      "Rell: ['Rell', 'Iron Maiden', 'Rel']\n",
      "Renata Glasc: ['Renata', 'Glasc', 'Chem-Baroness', 'Chem Baroness', 'Rennata', 'Renate', 'Rennate', 'Glask']\n",
      "Renekton: ['Renekton', 'Butcher of the Sands', 'Renek', 'Reneck', 'Reneckton', 'Renekten', 'Rennekton', 'Renneckton']\n",
      "Rengar: ['Rengar', 'Pridestalker', 'Renngar', 'Renger']\n",
      "Riven: ['Riven', 'The Exile', 'Riwen', 'Rivven']\n",
      "Rumble: ['Rumble', 'Mechanized Menace', 'Rummble', 'Rumbl']\n",
      "Ryze: ['Ryze', 'Rune Mage', 'Rhyze', 'Ryzhe', 'Rize']\n",
      "Samira: ['Samira', 'Desert Rose', 'Semira', 'Sammira', 'Semmira']\n",
      "Sejuani: ['Sejuani', 'Fury of the North', 'Seguani', 'Sechuani', 'Sejuanni', 'Seyuani']\n",
      "Senna: ['Senna', 'The Redeemer', 'Sena']\n",
      "Seraphine: ['Seraphine', 'Starry-Eyed Songstress', 'Starryeyed Songstress', 'Sera', 'Seraph', 'Serafine', 'Zeraphine']\n",
      "Sett: ['Sett', 'The Boss', 'Zett']\n",
      "Shaco: ['Shaco', 'Demon Jester', 'Shacco', 'Shacko', 'Shakko', 'Shako']\n",
      "Shen: ['Shen', 'Eye of Twilight', 'Chen']\n",
      "Shyvana: ['Shyvana', 'Half-Dragon', 'Half Dragon', 'Shyv', 'Shivana', 'Shyvanna', 'Shivanna', 'Shiv', 'Shyva']\n",
      "Singed: ['Singed', 'Mad Chemist', 'Singe', 'Singd', 'Singde']\n",
      "Sion: ['Sion', 'Undead Juggernaut', 'Sione']\n",
      "Sivir: ['Sivir', 'Battle Mistress', 'Siwir']\n",
      "Skarner: ['Skarner', 'Primordial Sovereign', 'Scarner', 'Sckarner', 'Skarn']\n",
      "Smolder: ['Smolder', 'Fiery Fledgling', 'Smoulder', 'Smollder']\n",
      "Sona: ['Sona', 'Maven of the Strings']\n",
      "Soraka: ['Soraka', 'The Starchild', 'Sorraka', 'Zoraka', 'Zorraka', 'Sorakka', 'Sorrakka', 'Sora']\n",
      "Swain: ['Swain', 'Noxian Grand General', 'Swein', 'Swayn', 'Svain']\n",
      "Sylas: ['Sylas', 'The Unshackled', 'Silas']\n",
      "Syndra: ['Syndra', 'Dark Sovereign', 'Sindra', 'Synndra']\n",
      "Tahm Kench: ['Tahm', 'Kench', 'River King', 'Tam', 'Khench']\n",
      "Taliyah: ['Taliyah', 'Stoneweaver', 'Talliyah', 'Taliya', 'Thaliya', 'Thalliya', 'Talliya']\n",
      "Talon: ['Talon', \"Blade's Shadow\", 'Blades Shadow', 'Tallon']\n",
      "Taric: ['Taric', 'Shield of Valoran', 'Tarric', 'Tarick', 'Tarrick']\n",
      "Teemo: ['Teemo', 'Swift Scout', 'Temo', 'Teemoo', 'Temoo', 'Timo']\n",
      "Thresh: ['Thresh', 'Chain Warden', 'Tresh', 'Thres', 'Threshe']\n",
      "Tristana: ['Tristana', 'Yordle Gunner', 'Trist', 'Tris', 'Tristanna']\n",
      "Trundle: ['Trundle', 'Troll King', 'Trunndle', 'Trundl']\n",
      "Tryndamere: ['Tryndamere', 'Barbarian King', 'Trynd', 'Tryndamer', 'Trynda', 'Trindamere', 'Trindamer']\n",
      "Twisted Fate: ['Twisted Fate', 'Card Master', 'Twisted', 'TF']\n",
      "Twitch: ['Twitch', 'Plague Rat', 'Twich']\n",
      "Udyr: ['Udyr', 'Spirit Walker', 'Udir']\n",
      "Urgot: ['Urgot', 'Dreadnought', 'Urgott', 'Urgod']\n",
      "Varus: ['Varus', 'Arrow of Retribution', 'Varrus']\n",
      "Vayne: ['Vayne', 'Night Hunter', 'Vayn', 'Wayne']\n",
      "Veigar: ['Veigar', 'Tiny Master of Evil', 'Veighar', 'Viegar']\n",
      "Velkoz: ['Velkoz', \"Vel'Koz\", 'Eye of the Void', 'Vellkoz', 'Velkos']\n",
      "Vex: ['Vex', 'Gloomist']\n",
      "Vi: ['Vi', 'Piltover Enforcer']\n",
      "Viego: ['Viego', 'Ruined King', 'Veigo']\n",
      "Viktor: ['Viktor', 'Machine Herald', 'Vik', 'Victor']\n",
      "Vladimir: ['Vladimir', 'Crimson Reaper', 'Vlad', 'Vladd', 'Vladdimir', 'Vladimmir']\n",
      "Volibear: ['Volibear', 'Relentless Storm', 'Voli', 'Vollibear', 'Volibaer']\n",
      "Warwick: ['Warwick', 'Uncaged Wrath of Zaun', 'Warwik', 'Warwic', 'Worwick']\n",
      "Wukong: ['Wukong', 'Monkey King', 'Wuking', 'Kong']\n",
      "Xayah: ['Xayah', 'The Rebel', 'Xajah', 'Xaya', 'Xaja', 'Xaiah']\n",
      "Xerath: ['Xerath', 'Magus Ascendant', 'Xerat']\n",
      "Xin Zhao: ['Xin', 'Zhao', 'Seneschal of Demacia', 'Zao']\n",
      "Yasuo: ['Yasuo', 'The Unforgiven', 'Yas', 'Yass']\n",
      "Yone: ['Yone', 'The Unforgotten', 'Yon', 'Ione']\n",
      "Yorick: ['Yorick', 'Shepherd of Souls', 'Yorrick', 'Yoric', 'Yorik', 'Yorikk', 'Jorick']\n",
      "Yuumi: ['Yuumi', 'Magical Cat', 'Yumi', 'Yummi', 'Yuummi', 'Yumii', 'Yuumii', 'Yumie']\n",
      "Zac: ['Zac', 'Secret Weapon', 'Zack']\n",
      "Zed: ['Zed', 'Master of Shadows', 'Zedd']\n",
      "Zeri: ['Zeri', 'Spark of Zaun', 'Zerri']\n",
      "Ziggs: ['Ziggs', 'Hexplosives Expert', 'Zigs']\n",
      "Zilean: ['Zilean', 'Chronokeeper', 'Zilliean', 'Zilian', 'Zillean']\n",
      "Zoe: ['Zoe', 'Aspect of Twilight', 'Zoee', 'Zoey']\n",
      "Zyra: ['Zyra', 'Rise of the Thorns', 'Zira', 'Zhyra', 'Zyrah']\n"
     ]
    }
   ],
   "source": [
    "with open('champion_dictionary.json', 'r') as file:\n",
    "    champion_dict = json.load(file)\n",
    "\n",
    "for key, value in champion_dict.items():\n",
    "    print(str(key) + ': ' + str(value))\n"
   ]
  },
  {
   "cell_type": "code",
   "execution_count": 170,
   "metadata": {},
   "outputs": [
    {
     "data": {
      "text/plain": [
       "166"
      ]
     },
     "execution_count": 170,
     "metadata": {},
     "output_type": "execute_result"
    }
   ],
   "source": [
    "len(champion_dict)"
   ]
  },
  {
   "cell_type": "code",
   "execution_count": 171,
   "metadata": {},
   "outputs": [
    {
     "data": {
      "text/plain": [
       "935"
      ]
     },
     "execution_count": 171,
     "metadata": {},
     "output_type": "execute_result"
    }
   ],
   "source": [
    "# Total Number of Aliases\n",
    "concatenated_list = [item for sublist in champion_dict.values() for item in sublist]\n",
    "len(concatenated_list)"
   ]
  }
 ],
 "metadata": {
  "kernelspec": {
   "display_name": "Python 3",
   "language": "python",
   "name": "python3"
  },
  "language_info": {
   "codemirror_mode": {
    "name": "ipython",
    "version": 3
   },
   "file_extension": ".py",
   "mimetype": "text/x-python",
   "name": "python",
   "nbconvert_exporter": "python",
   "pygments_lexer": "ipython3",
   "version": "3.10.11"
  }
 },
 "nbformat": 4,
 "nbformat_minor": 2
}
