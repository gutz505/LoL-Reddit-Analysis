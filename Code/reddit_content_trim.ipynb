{
 "cells": [
  {
   "cell_type": "markdown",
   "metadata": {},
   "source": [
    "## Reddit Posts Dataset Trim\n",
    "Gulliver Wutz"
   ]
  },
  {
   "cell_type": "code",
   "execution_count": 1,
   "metadata": {},
   "outputs": [],
   "source": [
    "import pandas as pd\n",
    "import numpy as np"
   ]
  },
  {
   "cell_type": "code",
   "execution_count": 3,
   "metadata": {},
   "outputs": [],
   "source": [
    "reddit_posts = pd.read_csv('C:/Users/wutzg/Desktop/Master Thesis/Artifacts/Datasets/reddit_posts.csv')"
   ]
  },
  {
   "cell_type": "code",
   "execution_count": 6,
   "metadata": {},
   "outputs": [],
   "source": [
    "# Add Patch Versions\n",
    "conditions = [\n",
    "    reddit_posts['Created CEST'] > '2024-05-01',\n",
    "    (reddit_posts['Created CEST'] > '2024-04-17') & (reddit_posts['Created CEST'] <= '2024-05-01'),\n",
    "    (reddit_posts['Created CEST'] > '2024-04-03') & (reddit_posts['Created CEST'] <= '2024-04-17'),\n",
    "    (reddit_posts['Created CEST'] > '2024-03-20') & (reddit_posts['Created CEST'] <= '2024-04-03'),\n",
    "    (reddit_posts['Created CEST'] > '2024-03-06') & (reddit_posts['Created CEST'] <= '2024-03-20'),\n",
    "    (reddit_posts['Created CEST'] > '2024-02-22') & (reddit_posts['Created CEST'] <= '2024-03-06'),\n",
    "    (reddit_posts['Created CEST'] > '2024-02-07') & (reddit_posts['Created CEST'] <= '2024-02-22'),\n",
    "    (reddit_posts['Created CEST'] > '2024-01-24') & (reddit_posts['Created CEST'] <= '2024-02-07'),\n",
    "    (reddit_posts['Created CEST'] > '2024-01-10') & (reddit_posts['Created CEST'] <= '2024-02-24'),\n",
    "    reddit_posts['Created CEST'] <= '2024-01-10'\n",
    "]\n",
    "\n",
    "values = [14.9, 14.8,  14.7, 14.6, 14.5, 14.4, 14.3, 14.2, 14.1, 0]\n",
    "reddit_posts['Patch'] = np.select(conditions, values)"
   ]
  },
  {
   "cell_type": "code",
   "execution_count": 8,
   "metadata": {},
   "outputs": [],
   "source": [
    "# Drop Patches\n",
    "reddit_posts = reddit_posts.loc[reddit_posts['Patch'] != 0]\n",
    "reddit_posts = reddit_posts.loc[reddit_posts['Patch'] != 14.9]\n",
    "reddit_posts.reset_index(drop=True, inplace=True)"
   ]
  },
  {
   "cell_type": "code",
   "execution_count": 19,
   "metadata": {},
   "outputs": [],
   "source": [
    "# Sort Posts by Date\n",
    "reddit_posts = reddit_posts.sort_values(by='Created CEST', ascending=False)\n",
    "reddit_posts.reset_index(drop=True, inplace=True)"
   ]
  },
  {
   "cell_type": "code",
   "execution_count": 21,
   "metadata": {},
   "outputs": [],
   "source": [
    "# Save as CSV Dataset\n",
    "reddit_posts.to_csv('reddit_posts_trimmed.csv', index=False)"
   ]
  }
 ],
 "metadata": {
  "kernelspec": {
   "display_name": "Python 3",
   "language": "python",
   "name": "python3"
  },
  "language_info": {
   "codemirror_mode": {
    "name": "ipython",
    "version": 3
   },
   "file_extension": ".py",
   "mimetype": "text/x-python",
   "name": "python",
   "nbconvert_exporter": "python",
   "pygments_lexer": "ipython3",
   "version": "3.10.11"
  }
 },
 "nbformat": 4,
 "nbformat_minor": 2
}
